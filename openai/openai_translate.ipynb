{
 "cells": [
  {
   "cell_type": "code",
   "execution_count": null,
   "metadata": {},
   "outputs": [],
   "source": [
    "from pathlib import Path as P\n",
    "from lxml import etree\n",
    "from itertools import islice\n",
    "\n",
    "import pandas as pd\n",
    "import numpy as np\n",
    "from pandas import DataFrame, Series\n"
   ]
  },
  {
   "cell_type": "code",
   "execution_count": null,
   "metadata": {},
   "outputs": [],
   "source": [
    "# read in the XML in .bike and parse using lxml \n",
    "# get all the p text\n",
    "# https://lxml.de/parsing.html\n",
    "\n",
    "\n",
    "def extract_p_text(file_path):\n",
    "    # Ensure the file path is a Path object\n",
    "    if not isinstance(file_path, P):\n",
    "        file_path = P(file_path)\n",
    "\n",
    "    # Read the xml file\n",
    "    xml_data = file_path.read_bytes()\n",
    "\n",
    "    # Parse the XML data\n",
    "    root = etree.fromstring(xml_data)\n",
    "\n",
    "    # Find all 'p' elements\n",
    "    p_elements = root.findall('.//p')\n",
    "\n",
    "    # Extract and return the text from the 'p' elements\n",
    "\n",
    "    for p in p_elements:\n",
    "        if p.text is not None:\n",
    "            yield (p.text)\n",
    "\n",
    "# Usage\n",
    "file_path = P.home() / \"Downloads\" / \"moby_dick.bike\" \n",
    "p_text_list = extract_p_text(file_path)\n",
    "\n",
    "for i, text in islice(enumerate(p_text_list), 10):\n",
    "    print(f\"Paragraph {i+1}: {text}\")\n"
   ]
  },
  {
   "cell_type": "code",
   "execution_count": null,
   "metadata": {},
   "outputs": [],
   "source": [
    "file_path = P.home() / \"Downloads\" / \"moby_dick.bike\" \n",
    "\n",
    "paragraphs = list(extract_p_text(file_path))"
   ]
  },
  {
   "cell_type": "code",
   "execution_count": null,
   "metadata": {},
   "outputs": [],
   "source": [
    "s = Series(paragraphs)\n",
    "max(s.apply(len))"
   ]
  },
  {
   "cell_type": "code",
   "execution_count": null,
   "metadata": {},
   "outputs": [],
   "source": [
    "import subprocess\n",
    "\n",
    "def run_command(cmd):\n",
    "    result = subprocess.run(cmd, stdout=subprocess.PIPE, stderr=subprocess.PIPE, text=True, shell=True)\n",
    "    return result.stdout + result.stderr\n",
    "\n",
    "api_ref = \"op://Private/g2mohpraf2d67jktlsoljc43si/Section_caj3qfdvfnkqfxn63jhjpydb7e/api key\"\n",
    "\n",
    "\n",
    "cmd = f'op read \"{api_ref}\"'\n",
    "api_key = run_command(cmd).strip()\n"
   ]
  },
  {
   "cell_type": "code",
   "execution_count": null,
   "metadata": {},
   "outputs": [],
   "source": [
    "import os\n",
    "import openai\n",
    "\n",
    "openai.api_key = api_key\n",
    "\n",
    "response = openai.ChatCompletion.create(\n",
    "  model=\"gpt-3.5-turbo\",\n",
    "  messages=[\n",
    "    {\n",
    "      \"role\": \"system\",\n",
    "      \"content\": \"You will be provided with a sentence in English, and your task is to translate it into French.\"\n",
    "    },\n",
    "    {\n",
    "      \"role\": \"user\",\n",
    "      \"content\": \"Hello world!\"},\n",
    "    {\n",
    "      \"role\": \"assistant\",\n",
    "      \"content\": \"\" \n",
    "    }\n",
    "  ],\n",
    "  temperature=0,\n",
    "  max_tokens=256,\n",
    "  top_p=1,\n",
    "  frequency_penalty=0,\n",
    "  presence_penalty=0\n",
    ")"
   ]
  },
  {
   "cell_type": "code",
   "execution_count": null,
   "metadata": {},
   "outputs": [],
   "source": [
    "response"
   ]
  },
  {
   "cell_type": "code",
   "execution_count": null,
   "metadata": {},
   "outputs": [],
   "source": [
    "for i in range(10):\n",
    "    print(f\"\\r{i}\", end=\"\")"
   ]
  },
  {
   "cell_type": "code",
   "execution_count": null,
   "metadata": {},
   "outputs": [],
   "source": [
    "START = 1001\n",
    "STOP = 3000\n",
    "\n",
    "responses = []\n",
    "for (i,p) in enumerate(paragraphs[START:STOP]):\n",
    "    \n",
    "    print(f\"\\r{i}\", end=\"\")\n",
    "    messages = [\n",
    "    {\n",
    "      \"role\": \"system\",\n",
    "      \"content\": \"You will be provided with a sentence in English, and your task is to translate it into French.\"\n",
    "    },\n",
    "    {\n",
    "      \"role\": \"user\",\n",
    "      \"content\": p \n",
    "    },\n",
    "    {\n",
    "      \"role\": \"assistant\",\n",
    "      \"content\": \"\" \n",
    "    }\n",
    "  ]\n",
    "    response = openai.ChatCompletion.create(\n",
    "        model=\"gpt-3.5-turbo\",\n",
    "        messages= messages,\n",
    "        temperature=0,\n",
    "        max_tokens=256,\n",
    "        top_p=1,\n",
    "        frequency_penalty=0,\n",
    "        presence_penalty=0\n",
    "    )\n",
    "    responses.append(response)"
   ]
  },
  {
   "cell_type": "code",
   "execution_count": null,
   "metadata": {},
   "outputs": [],
   "source": [
    "responses"
   ]
  },
  {
   "cell_type": "code",
   "execution_count": null,
   "metadata": {},
   "outputs": [],
   "source": [
    "for response in responses:\n",
    "    print(response['choices'][0]['message']['content'])\n"
   ]
  },
  {
   "cell_type": "code",
   "execution_count": null,
   "metadata": {},
   "outputs": [],
   "source": [
    "# use openai to return the list of models, and their descriptions and costs\n",
    "# https://beta.openai.com/docs/api-reference/list-engines\n",
    "\n",
    "response = openai.Engine.list()\n",
    "\n",
    "for engine in response['data']:\n",
    "    print(f\"Model: {engine['id']}\")\n",
    "    print(f\"Description: {engine['display_name']}\")\n",
    "    print(f\"Cost: {engine['usage']['cost']['total']} tokens\")\n",
    "    print()\n"
   ]
  },
  {
   "cell_type": "code",
   "execution_count": null,
   "metadata": {},
   "outputs": [],
   "source": [
    "openai.Model.list()"
   ]
  },
  {
   "cell_type": "code",
   "execution_count": null,
   "metadata": {},
   "outputs": [],
   "source": []
  }
 ],
 "metadata": {
  "kernelspec": {
   "display_name": "myenv-3.11.3",
   "language": "python",
   "name": "python3"
  },
  "language_info": {
   "codemirror_mode": {
    "name": "ipython",
    "version": 3
   },
   "file_extension": ".py",
   "mimetype": "text/x-python",
   "name": "python",
   "nbconvert_exporter": "python",
   "pygments_lexer": "ipython3",
   "version": "3.11.3"
  },
  "orig_nbformat": 4
 },
 "nbformat": 4,
 "nbformat_minor": 2
}
