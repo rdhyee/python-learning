{
 "cells": [
  {
   "cell_type": "markdown",
   "metadata": {},
   "source": [
    "# Imports"
   ]
  },
  {
   "cell_type": "code",
   "execution_count": 113,
   "metadata": {},
   "outputs": [],
   "source": [
    "from rdhyee_utils.bike import Bike, BikeDocument, BikeWindow\n",
    "\n",
    "from rdhyee_utils.bike.bikeformat import (\n",
    "    walk_element,\n",
    "    innerhtml,\n",
    "    convert_text,\n",
    "    text_content,\n",
    "    get_task_list_items,\n",
    "    cluster_runs,\n",
    "    keep_clusters,\n",
    "    namespaces,\n",
    "    BALLOT_BOX,\n",
    "    BALLOT_BOX_WITH_X,\n",
    "    NS,\n",
    "    wrap_in_list_item,\n",
    "    rich_text,\n",
    "    bike_etree_to_panflute,\n",
    "    generate_id_attribute,\n",
    "    generate_unique_id_attribute,\n",
    "    get_bike_doc,\n",
    "    etree_to_panflute,\n",
    "    ids\n",
    ")\n",
    "\n",
    "from rdhyee_utils.clipboard.macos import GeneralPasteboard, ptypes\n",
    "from appscript import app, k, its, mactypes\n",
    "\n",
    "import os\n",
    "import sys\n",
    "import random\n",
    "\n",
    "import sh\n",
    "\n",
    "from collections import defaultdict\n",
    "from itertools import chain, islice\n",
    "\n",
    "from pathlib import Path as P\n",
    "\n",
    "from io import StringIO\n",
    "\n",
    "import lxml.etree as ET\n",
    "from lxml.html import parse, fromstring\n",
    "from lxml import etree\n",
    "\n",
    "import json\n",
    "import panflute as pf\n",
    "from panflute import (\n",
    "    Doc, Header, Str, Para, Div, Span, BulletList, ListItem, Plain, Space, OrderedList, HorizontalRule, BlockQuote, Quoted, Note, CodeBlock, Code, Link, Emph, Strikeout, Strong\n",
    ")\n",
    "\n",
    "if True:\n",
    "    # add pandoc to front of path\n",
    "    os.environ['PATH'] = '/usr/local/pandoc/pandoc-2.19.2/bin:' + os.environ['PATH']\n",
    "    # pandoc.configure(path='/usr/local/pandoc/pandoc-2.19.2/bin/pandoc')\n",
    "\n",
    "import pandoc\n",
    "from pandoc import types as PT\n",
    "\n",
    "# This might work but I still got the warning message about the too new pandoc version unless I messed with PATH\n",
    "if False:\n",
    "    pandoc.configure(path='/usr/local/pandoc/pandoc-2.19.2/bin/pandoc')\n",
    "\n",
    "\n"
   ]
  },
  {
   "cell_type": "markdown",
   "metadata": {},
   "source": [
    "# pandoc versions"
   ]
  },
  {
   "cell_type": "code",
   "execution_count": 2,
   "metadata": {},
   "outputs": [
    {
     "name": "stdout",
     "output_type": "stream",
     "text": [
      "3.0.1\n",
      "/usr/local/pandoc/pandoc-3.0.1/bin/pandoc\n",
      "(['biblatex', 'bibtex', 'commonmark', 'commonmark_x', 'creole', 'csljson', 'csv', 'docbook', 'docx', 'dokuwiki', 'endnotexml', 'epub', 'fb2', 'gfm', 'haddock', 'html', 'ipynb', 'jats', 'jira', 'json', 'latex', 'man', 'markdown', 'markdown_github', 'markdown_mmd', 'markdown_phpextra', 'markdown_strict', 'mediawiki', 'muse', 'native', 'odt', 'opml', 'org', 'ris', 'rst', 'rtf', 't2t', 'textile', 'tikiwiki', 'tsv', 'twiki', 'vimwiki'], ['asciidoc', 'asciidoctor', 'beamer', 'biblatex', 'bibtex', 'chunkedhtml', 'commonmark', 'commonmark_x', 'context', 'csljson', 'docbook', 'docbook4', 'docbook5', 'docx', 'dokuwiki', 'dzslides', 'epub', 'epub2', 'epub3', 'fb2', 'gfm', 'haddock', 'html', 'html4', 'html5', 'icml', 'ipynb', 'jats', 'jats_archiving', 'jats_articleauthoring', 'jats_publishing', 'jira', 'json', 'latex', 'man', 'markdown', 'markdown_github', 'markdown_mmd', 'markdown_phpextra', 'markdown_strict', 'markua', 'mediawiki', 'ms', 'muse', 'native', 'odt', 'opendocument', 'opml', 'org', 'pdf', 'plain', 'pptx', 'revealjs', 'rst', 'rtf', 's5', 'slideous', 'slidy', 'tei', 'texinfo', 'textile', 'xwiki', 'zimwiki'])\n"
     ]
    }
   ],
   "source": [
    "# pypandoc\n",
    "\n",
    "if True:\n",
    "    os.environ['PYPANDOC_PANDOC'] = \"/usr/local/pandoc/pandoc-3.0.1/bin/pandoc\"\n",
    "\n",
    "import pypandoc\n",
    "\n",
    "print(pypandoc.get_pandoc_version())\n",
    "print(pypandoc.get_pandoc_path())\n",
    "print(pypandoc.get_pandoc_formats())"
   ]
  },
  {
   "cell_type": "code",
   "execution_count": null,
   "metadata": {},
   "outputs": [],
   "source": [
    "if False:\n",
    "    pypandoc.download_pandoc()"
   ]
  },
  {
   "cell_type": "code",
   "execution_count": 3,
   "metadata": {},
   "outputs": [
    {
     "data": {
      "text/plain": [
       "(None,\n",
       " pandoc 2.19.2\n",
       " Compiled with pandoc-types 1.22.2.1, texmath 0.12.5.2, skylighting 0.13,\n",
       " citeproc 0.8.0.1, ipynb 0.2, hslua 2.2.1\n",
       " Scripting engine: Lua 5.4\n",
       " User data directory: /Users/raymondyee/.local/share/pandoc\n",
       " Copyright (C) 2006-2022 John MacFarlane. Web:  https://pandoc.org\n",
       " This is free software; see the source for copying conditions. There is no\n",
       " warranty, not even for merchantability or fitness for a particular purpose.,\n",
       " None)"
      ]
     },
     "execution_count": 3,
     "metadata": {},
     "output_type": "execute_result"
    }
   ],
   "source": [
    "\n",
    "\n",
    "# panflute\n",
    "\"\"\" \n",
    "seems like panflute does a shutil.wich('pandoc') to find pandoc \n",
    "that means to change which pandoc is used, you need to change the PATH\n",
    "\"\"\"\n",
    "if False:\n",
    "    pf.tools.PANDOC_PATH = \"/usr/local/pandoc/pandoc-3.0.1/bin/pandoc\"\n",
    "\n",
    "# print(pf.__version__)\n",
    "(pf.utils.load_pandoc_version(),\n",
    "pf.tools.pandoc_version,\n",
    "pf.tools.PANDOC_PATH\n",
    ")"
   ]
  },
  {
   "cell_type": "code",
   "execution_count": 4,
   "metadata": {},
   "outputs": [
    {
     "data": {
      "text/plain": [
       "Pandoc(Meta({}), [Para([Str('Hello'), Space(), Str('world!')])])"
      ]
     },
     "execution_count": 4,
     "metadata": {},
     "output_type": "execute_result"
    }
   ],
   "source": [
    "# pandoc library\n",
    "\n",
    "\n",
    "\n",
    "text = \"Hello world!\"\n",
    "doc = pandoc.read(text)\n",
    "doc"
   ]
  },
  {
   "cell_type": "code",
   "execution_count": 5,
   "metadata": {},
   "outputs": [
    {
     "data": {
      "text/plain": [
       "{'auto': True,\n",
       " 'path': '/usr/local/pandoc/pandoc-2.19.2/bin/pandoc',\n",
       " 'version': '2.19.2',\n",
       " 'pandoc_types_version': '1.22.2.1'}"
      ]
     },
     "execution_count": 5,
     "metadata": {},
     "output_type": "execute_result"
    }
   ],
   "source": [
    "pandoc._configuration"
   ]
  },
  {
   "cell_type": "markdown",
   "metadata": {},
   "source": [
    "# pandoc writer"
   ]
  },
  {
   "cell_type": "code",
   "execution_count": null,
   "metadata": {},
   "outputs": [],
   "source": [
    "# make a empty xhtml etree\n",
    "\n",
    "def ids(etree):\n",
    "    \"\"\"\n",
    "    Return a list of ids of the rows\n",
    "    \"\"\"\n",
    "    return [e.attrib[\"id\"] for e in etree.xpath(\"//*[@id]\")]\n",
    "\n",
    "\n",
    "etree = ET.Element('html', nsmap=namespaces)\n",
    "\n",
    "# add a head\n",
    "head = ET.SubElement(etree, 'head')\n",
    "meta = ET.SubElement(head, 'meta', attrib={'charset': 'utf-8'})\n",
    "\n",
    "# add a body\n",
    "body = ET.SubElement(etree, 'body')\n",
    "\n",
    "# add a root ul to body\n",
    "root_ul = ET.SubElement(body, 'ul', attrib={'id': generate_unique_id_attribute(8, ids(etree))})\n",
    "\n",
    "print(ET.tostring(etree, pretty_print=True, encoding=\"utf-8\", xml_declaration=True).decode('utf-8'))\n"
   ]
  },
  {
   "cell_type": "code",
   "execution_count": 6,
   "metadata": {},
   "outputs": [
    {
     "data": {
      "text/plain": [
       "Counter({pandoc.types.MetaType: 96,\n",
       "         type: 9,\n",
       "         module: 7,\n",
       "         function: 5,\n",
       "         str: 4,\n",
       "         NoneType: 2,\n",
       "         dict: 2,\n",
       "         _frozen_importlib_external.SourceFileLoader: 1,\n",
       "         _frozen_importlib.ModuleSpec: 1})"
      ]
     },
     "execution_count": 6,
     "metadata": {},
     "output_type": "execute_result"
    }
   ],
   "source": [
    "from pandoc import types as PT\n",
    "from collections import Counter\n",
    "\n",
    "# make a list of all entities that would imported if I did from pandoc.types import *\n",
    "\n",
    "# if isinstance(v, type) and issubclass(v, PT.MetaType)\n",
    "pandoc_types = [k for k, v in PT.__dict__.items()]\n",
    "\n",
    "\n",
    "c = Counter([type(v) for k, v in PT.__dict__.items()])\n",
    "c\n"
   ]
  },
  {
   "cell_type": "code",
   "execution_count": 8,
   "metadata": {},
   "outputs": [
    {
     "data": {
      "text/plain": [
       "dict_keys(['Constructor', 'Pandoc', 'Meta', 'MetaMap', 'MetaList', 'MetaBool', 'MetaString', 'MetaInlines', 'MetaBlocks', 'DefaultStyle', 'Example', 'Decimal', 'LowerRoman', 'UpperRoman', 'LowerAlpha', 'UpperAlpha', 'DefaultDelim', 'Period', 'OneParen', 'TwoParens', 'Format', 'RowHeadColumns', 'AlignLeft', 'AlignRight', 'AlignCenter', 'AlignDefault', 'ColWidth_', 'ColWidthDefault', 'Row', 'TableHead', 'TableBody', 'TableFoot', 'Caption', 'Cell', 'RowSpan', 'ColSpan', 'Plain', 'Para', 'LineBlock', 'CodeBlock', 'RawBlock', 'BlockQuote', 'OrderedList', 'BulletList', 'DefinitionList', 'Header', 'HorizontalRule', 'Table', 'Div', 'Null', 'SingleQuote', 'DoubleQuote', 'DisplayMath', 'InlineMath', 'Str', 'Emph', 'Underline', 'Strong', 'Strikeout', 'Superscript', 'Subscript', 'SmallCaps', 'Quoted', 'Cite', 'Code', 'Space', 'SoftBreak', 'LineBreak', 'Math', 'RawInline', 'Link', 'Image', 'Note', 'Span', 'Citation', 'AuthorInText', 'SuppressAuthor', 'NormalCitation'])"
      ]
     },
     "execution_count": 8,
     "metadata": {},
     "output_type": "execute_result"
    }
   ],
   "source": [
    "# PT.__dict__.keys()\n",
    "meta_types = dict([(k, v) for k, v in PT.__dict__.items() if isinstance(v, PT.MetaType)])\n",
    "abstract_types = dict([(k, v) for k, v in meta_types.items() if not issubclass(v, PT.Constructor)])\n",
    "concrete_types = dict([(k, v) for k, v in meta_types.items() if issubclass(v, PT.Constructor)])\n",
    "len(meta_types), len(abstract_types)\n",
    "\n",
    "# abstract_types.keys()\n",
    "concrete_types.keys()"
   ]
  },
  {
   "cell_type": "code",
   "execution_count": 9,
   "metadata": {},
   "outputs": [
    {
     "data": {
      "text/plain": [
       "{'Alignment',\n",
       " 'Attr',\n",
       " 'Block',\n",
       " 'CitationMode',\n",
       " 'ColSpec',\n",
       " 'ColWidth',\n",
       " 'Data',\n",
       " 'Inline',\n",
       " 'ListAttributes',\n",
       " 'ListNumberDelim',\n",
       " 'ListNumberStyle',\n",
       " 'MathType',\n",
       " 'MetaValue',\n",
       " 'QuoteType',\n",
       " 'ShortCaption',\n",
       " 'Target',\n",
       " 'Type',\n",
       " 'TypeDef'}"
      ]
     },
     "execution_count": 9,
     "metadata": {},
     "output_type": "execute_result"
    }
   ],
   "source": [
    "set(abstract_types.keys())"
   ]
  },
  {
   "cell_type": "code",
   "execution_count": 10,
   "metadata": {},
   "outputs": [
    {
     "name": "stdout",
     "output_type": "stream",
     "text": [
      "                Data  ListNumberDelim  MetaValue  QuoteType  Inline  \\\n",
      "Constructor     True            False      False      False   False   \n",
      "Pandoc          True            False      False      False   False   \n",
      "Meta            True            False      False      False   False   \n",
      "MetaMap         True            False       True      False   False   \n",
      "MetaList        True            False       True      False   False   \n",
      "...              ...              ...        ...        ...     ...   \n",
      "Span            True            False      False      False    True   \n",
      "Citation        True            False      False      False   False   \n",
      "AuthorInText    True            False      False      False   False   \n",
      "SuppressAuthor  True            False      False      False   False   \n",
      "NormalCitation  True            False      False      False   False   \n",
      "\n",
      "                ListNumberStyle  Alignment  MathType  ColWidth  Block  Type  \\\n",
      "Constructor               False      False     False     False  False  True   \n",
      "Pandoc                    False      False     False     False  False  True   \n",
      "Meta                      False      False     False     False  False  True   \n",
      "MetaMap                   False      False     False     False  False  True   \n",
      "MetaList                  False      False     False     False  False  True   \n",
      "...                         ...        ...       ...       ...    ...   ...   \n",
      "Span                      False      False     False     False  False  True   \n",
      "Citation                  False      False     False     False  False  True   \n",
      "AuthorInText              False      False     False     False  False  True   \n",
      "SuppressAuthor            False      False     False     False  False  True   \n",
      "NormalCitation            False      False     False     False  False  True   \n",
      "\n",
      "                CitationMode  \n",
      "Constructor            False  \n",
      "Pandoc                 False  \n",
      "Meta                   False  \n",
      "MetaMap                False  \n",
      "MetaList               False  \n",
      "...                      ...  \n",
      "Span                   False  \n",
      "Citation               False  \n",
      "AuthorInText            True  \n",
      "SuppressAuthor          True  \n",
      "NormalCitation          True  \n",
      "\n",
      "[78 rows x 12 columns]\n"
     ]
    }
   ],
   "source": [
    "import pandas as pd\n",
    "from pandas import Series, DataFrame\n",
    "\n",
    "def mro_names(v):\n",
    "    # return only ones that intersect with the abstract types\n",
    "    return set([c.__name__ for c in v.mro()]) & set(abstract_types.keys())\n",
    "\n",
    "concrete_mros = dict([(k, mro_names(v)) for k, v in concrete_types.items()])\n",
    "# create a DataFrame indexed on the concrete types with columns of all the possible mro names\n",
    "\n",
    "all_mros = set()\n",
    "for mros in concrete_mros.values():\n",
    "    all_mros.update(mros)\n",
    "\n",
    "# create a dictionary of dictionaries with True or False values\n",
    "data = {k: {mro: mro in v for mro in all_mros} for k, v in concrete_mros.items()}\n",
    "\n",
    "# create a DataFrame from the dictionary\n",
    "df = pd.DataFrame.from_dict(data, orient='index')\n",
    "\n",
    "# print the DataFrame\n",
    "print(df)"
   ]
  },
  {
   "cell_type": "code",
   "execution_count": 11,
   "metadata": {},
   "outputs": [
    {
     "data": {
      "text/plain": [
       "Data               78\n",
       "ListNumberDelim     4\n",
       "MetaValue           6\n",
       "QuoteType           2\n",
       "Inline             20\n",
       "ListNumberStyle     7\n",
       "Alignment           4\n",
       "MathType            2\n",
       "ColWidth            2\n",
       "Block              14\n",
       "Type               78\n",
       "CitationMode        3\n",
       "dtype: int64"
      ]
     },
     "execution_count": 11,
     "metadata": {},
     "output_type": "execute_result"
    }
   ],
   "source": [
    "df.sum()"
   ]
  },
  {
   "cell_type": "code",
   "execution_count": 38,
   "metadata": {},
   "outputs": [
    {
     "data": {
      "text/plain": [
       "BulletList([[Block]])"
      ]
     },
     "execution_count": 38,
     "metadata": {},
     "output_type": "execute_result"
    }
   ],
   "source": []
  },
  {
   "cell_type": "code",
   "execution_count": 39,
   "metadata": {},
   "outputs": [
    {
     "data": {
      "text/html": [
       "<div>\n",
       "<style scoped>\n",
       "    .dataframe tbody tr th:only-of-type {\n",
       "        vertical-align: middle;\n",
       "    }\n",
       "\n",
       "    .dataframe tbody tr th {\n",
       "        vertical-align: top;\n",
       "    }\n",
       "\n",
       "    .dataframe thead th {\n",
       "        text-align: right;\n",
       "    }\n",
       "</style>\n",
       "<table border=\"1\" class=\"dataframe\">\n",
       "  <thead>\n",
       "    <tr style=\"text-align: right;\">\n",
       "      <th></th>\n",
       "      <th>Data</th>\n",
       "      <th>ListNumberDelim</th>\n",
       "      <th>MetaValue</th>\n",
       "      <th>QuoteType</th>\n",
       "      <th>Inline</th>\n",
       "      <th>ListNumberStyle</th>\n",
       "      <th>Alignment</th>\n",
       "      <th>MathType</th>\n",
       "      <th>ColWidth</th>\n",
       "      <th>Block</th>\n",
       "      <th>Type</th>\n",
       "      <th>CitationMode</th>\n",
       "    </tr>\n",
       "  </thead>\n",
       "  <tbody>\n",
       "    <tr>\n",
       "      <th>Plain</th>\n",
       "      <td>True</td>\n",
       "      <td>False</td>\n",
       "      <td>False</td>\n",
       "      <td>False</td>\n",
       "      <td>False</td>\n",
       "      <td>False</td>\n",
       "      <td>False</td>\n",
       "      <td>False</td>\n",
       "      <td>False</td>\n",
       "      <td>True</td>\n",
       "      <td>True</td>\n",
       "      <td>False</td>\n",
       "    </tr>\n",
       "    <tr>\n",
       "      <th>Para</th>\n",
       "      <td>True</td>\n",
       "      <td>False</td>\n",
       "      <td>False</td>\n",
       "      <td>False</td>\n",
       "      <td>False</td>\n",
       "      <td>False</td>\n",
       "      <td>False</td>\n",
       "      <td>False</td>\n",
       "      <td>False</td>\n",
       "      <td>True</td>\n",
       "      <td>True</td>\n",
       "      <td>False</td>\n",
       "    </tr>\n",
       "    <tr>\n",
       "      <th>LineBlock</th>\n",
       "      <td>True</td>\n",
       "      <td>False</td>\n",
       "      <td>False</td>\n",
       "      <td>False</td>\n",
       "      <td>False</td>\n",
       "      <td>False</td>\n",
       "      <td>False</td>\n",
       "      <td>False</td>\n",
       "      <td>False</td>\n",
       "      <td>True</td>\n",
       "      <td>True</td>\n",
       "      <td>False</td>\n",
       "    </tr>\n",
       "    <tr>\n",
       "      <th>CodeBlock</th>\n",
       "      <td>True</td>\n",
       "      <td>False</td>\n",
       "      <td>False</td>\n",
       "      <td>False</td>\n",
       "      <td>False</td>\n",
       "      <td>False</td>\n",
       "      <td>False</td>\n",
       "      <td>False</td>\n",
       "      <td>False</td>\n",
       "      <td>True</td>\n",
       "      <td>True</td>\n",
       "      <td>False</td>\n",
       "    </tr>\n",
       "    <tr>\n",
       "      <th>RawBlock</th>\n",
       "      <td>True</td>\n",
       "      <td>False</td>\n",
       "      <td>False</td>\n",
       "      <td>False</td>\n",
       "      <td>False</td>\n",
       "      <td>False</td>\n",
       "      <td>False</td>\n",
       "      <td>False</td>\n",
       "      <td>False</td>\n",
       "      <td>True</td>\n",
       "      <td>True</td>\n",
       "      <td>False</td>\n",
       "    </tr>\n",
       "    <tr>\n",
       "      <th>BlockQuote</th>\n",
       "      <td>True</td>\n",
       "      <td>False</td>\n",
       "      <td>False</td>\n",
       "      <td>False</td>\n",
       "      <td>False</td>\n",
       "      <td>False</td>\n",
       "      <td>False</td>\n",
       "      <td>False</td>\n",
       "      <td>False</td>\n",
       "      <td>True</td>\n",
       "      <td>True</td>\n",
       "      <td>False</td>\n",
       "    </tr>\n",
       "    <tr>\n",
       "      <th>OrderedList</th>\n",
       "      <td>True</td>\n",
       "      <td>False</td>\n",
       "      <td>False</td>\n",
       "      <td>False</td>\n",
       "      <td>False</td>\n",
       "      <td>False</td>\n",
       "      <td>False</td>\n",
       "      <td>False</td>\n",
       "      <td>False</td>\n",
       "      <td>True</td>\n",
       "      <td>True</td>\n",
       "      <td>False</td>\n",
       "    </tr>\n",
       "    <tr>\n",
       "      <th>BulletList</th>\n",
       "      <td>True</td>\n",
       "      <td>False</td>\n",
       "      <td>False</td>\n",
       "      <td>False</td>\n",
       "      <td>False</td>\n",
       "      <td>False</td>\n",
       "      <td>False</td>\n",
       "      <td>False</td>\n",
       "      <td>False</td>\n",
       "      <td>True</td>\n",
       "      <td>True</td>\n",
       "      <td>False</td>\n",
       "    </tr>\n",
       "    <tr>\n",
       "      <th>DefinitionList</th>\n",
       "      <td>True</td>\n",
       "      <td>False</td>\n",
       "      <td>False</td>\n",
       "      <td>False</td>\n",
       "      <td>False</td>\n",
       "      <td>False</td>\n",
       "      <td>False</td>\n",
       "      <td>False</td>\n",
       "      <td>False</td>\n",
       "      <td>True</td>\n",
       "      <td>True</td>\n",
       "      <td>False</td>\n",
       "    </tr>\n",
       "    <tr>\n",
       "      <th>Header</th>\n",
       "      <td>True</td>\n",
       "      <td>False</td>\n",
       "      <td>False</td>\n",
       "      <td>False</td>\n",
       "      <td>False</td>\n",
       "      <td>False</td>\n",
       "      <td>False</td>\n",
       "      <td>False</td>\n",
       "      <td>False</td>\n",
       "      <td>True</td>\n",
       "      <td>True</td>\n",
       "      <td>False</td>\n",
       "    </tr>\n",
       "    <tr>\n",
       "      <th>HorizontalRule</th>\n",
       "      <td>True</td>\n",
       "      <td>False</td>\n",
       "      <td>False</td>\n",
       "      <td>False</td>\n",
       "      <td>False</td>\n",
       "      <td>False</td>\n",
       "      <td>False</td>\n",
       "      <td>False</td>\n",
       "      <td>False</td>\n",
       "      <td>True</td>\n",
       "      <td>True</td>\n",
       "      <td>False</td>\n",
       "    </tr>\n",
       "    <tr>\n",
       "      <th>Table</th>\n",
       "      <td>True</td>\n",
       "      <td>False</td>\n",
       "      <td>False</td>\n",
       "      <td>False</td>\n",
       "      <td>False</td>\n",
       "      <td>False</td>\n",
       "      <td>False</td>\n",
       "      <td>False</td>\n",
       "      <td>False</td>\n",
       "      <td>True</td>\n",
       "      <td>True</td>\n",
       "      <td>False</td>\n",
       "    </tr>\n",
       "    <tr>\n",
       "      <th>Div</th>\n",
       "      <td>True</td>\n",
       "      <td>False</td>\n",
       "      <td>False</td>\n",
       "      <td>False</td>\n",
       "      <td>False</td>\n",
       "      <td>False</td>\n",
       "      <td>False</td>\n",
       "      <td>False</td>\n",
       "      <td>False</td>\n",
       "      <td>True</td>\n",
       "      <td>True</td>\n",
       "      <td>False</td>\n",
       "    </tr>\n",
       "    <tr>\n",
       "      <th>Null</th>\n",
       "      <td>True</td>\n",
       "      <td>False</td>\n",
       "      <td>False</td>\n",
       "      <td>False</td>\n",
       "      <td>False</td>\n",
       "      <td>False</td>\n",
       "      <td>False</td>\n",
       "      <td>False</td>\n",
       "      <td>False</td>\n",
       "      <td>True</td>\n",
       "      <td>True</td>\n",
       "      <td>False</td>\n",
       "    </tr>\n",
       "  </tbody>\n",
       "</table>\n",
       "</div>"
      ],
      "text/plain": [
       "                Data  ListNumberDelim  MetaValue  QuoteType  Inline  \\\n",
       "Plain           True            False      False      False   False   \n",
       "Para            True            False      False      False   False   \n",
       "LineBlock       True            False      False      False   False   \n",
       "CodeBlock       True            False      False      False   False   \n",
       "RawBlock        True            False      False      False   False   \n",
       "BlockQuote      True            False      False      False   False   \n",
       "OrderedList     True            False      False      False   False   \n",
       "BulletList      True            False      False      False   False   \n",
       "DefinitionList  True            False      False      False   False   \n",
       "Header          True            False      False      False   False   \n",
       "HorizontalRule  True            False      False      False   False   \n",
       "Table           True            False      False      False   False   \n",
       "Div             True            False      False      False   False   \n",
       "Null            True            False      False      False   False   \n",
       "\n",
       "                ListNumberStyle  Alignment  MathType  ColWidth  Block  Type  \\\n",
       "Plain                     False      False     False     False   True  True   \n",
       "Para                      False      False     False     False   True  True   \n",
       "LineBlock                 False      False     False     False   True  True   \n",
       "CodeBlock                 False      False     False     False   True  True   \n",
       "RawBlock                  False      False     False     False   True  True   \n",
       "BlockQuote                False      False     False     False   True  True   \n",
       "OrderedList               False      False     False     False   True  True   \n",
       "BulletList                False      False     False     False   True  True   \n",
       "DefinitionList            False      False     False     False   True  True   \n",
       "Header                    False      False     False     False   True  True   \n",
       "HorizontalRule            False      False     False     False   True  True   \n",
       "Table                     False      False     False     False   True  True   \n",
       "Div                       False      False     False     False   True  True   \n",
       "Null                      False      False     False     False   True  True   \n",
       "\n",
       "                CitationMode  \n",
       "Plain                  False  \n",
       "Para                   False  \n",
       "LineBlock              False  \n",
       "CodeBlock              False  \n",
       "RawBlock               False  \n",
       "BlockQuote             False  \n",
       "OrderedList            False  \n",
       "BulletList             False  \n",
       "DefinitionList         False  \n",
       "Header                 False  \n",
       "HorizontalRule         False  \n",
       "Table                  False  \n",
       "Div                    False  \n",
       "Null                   False  "
      ]
     },
     "execution_count": 39,
     "metadata": {},
     "output_type": "execute_result"
    }
   ],
   "source": [
    "df[df['Block']]"
   ]
  },
  {
   "cell_type": "code",
   "execution_count": 13,
   "metadata": {},
   "outputs": [
    {
     "data": {
      "text/plain": [
       "[Para(Str(Hello) Space Str(world!))]"
      ]
     },
     "execution_count": 13,
     "metadata": {},
     "output_type": "execute_result"
    }
   ],
   "source": [
    "# let's try to understand how panflute and pandoc-python enforce the type system for pandoc\n",
    "\n",
    "text = \"Hello world!\"\n",
    "\n",
    "# panflute\n",
    "# \n",
    "pfd = pf.convert_text(text, input_format='markdown', output_format='panflute')\n",
    "pfd"
   ]
  },
  {
   "cell_type": "code",
   "execution_count": 14,
   "metadata": {},
   "outputs": [
    {
     "data": {
      "text/plain": [
       "'{\"pandoc-api-version\": [1, 22, 2, 1], \"meta\": {}, \"blocks\": [{\"t\": \"Para\", \"c\": [{\"t\": \"Str\", \"c\": \"Hello\"}, {\"t\": \"Space\"}, {\"t\": \"Str\", \"c\": \"world!\"}]}]}'"
      ]
     },
     "execution_count": 14,
     "metadata": {},
     "output_type": "execute_result"
    }
   ],
   "source": [
    "# https://github.com/boisgera/pandoc/blob/master/src/pandoc/__init__.py#L151\n",
    "pd = pandoc.read(text)\n",
    "pandoc.write(doc, format=\"json\")\n"
   ]
  },
  {
   "cell_type": "code",
   "execution_count": 15,
   "metadata": {},
   "outputs": [
    {
     "data": {
      "text/plain": [
       "'{\"pandoc-api-version\": [1, 22, 2, 1], \"meta\": {}, \"blocks\": [{\"t\": \"Para\", \"c\": [{\"t\": \"Str\", \"c\": \"Hello world!\"}]}]}'"
      ]
     },
     "execution_count": 15,
     "metadata": {},
     "output_type": "execute_result"
    }
   ],
   "source": [
    "pd = PT.Pandoc(PT.Meta({}), [PT.Para([PT.Str(\"Hello world!\")])])\n",
    "pandoc.write(pd, format=\"json\")"
   ]
  },
  {
   "cell_type": "code",
   "execution_count": 19,
   "metadata": {},
   "outputs": [
    {
     "name": "stdout",
     "output_type": "stream",
     "text": [
      "\n"
     ]
    },
    {
     "name": "stderr",
     "output_type": "stream",
     "text": [
      "JSON parse error: Error in $.blocks[0]: When parsing Text.Pandoc.Definition.Block expected an Object with a tag field where the value is one of [Plain, Para, LineBlock, CodeBlock, RawBlock, BlockQuote, OrderedList, BulletList, DefinitionList, Header, HorizontalRule, Table, Div, Null], but got Str.\n",
      "\n"
     ]
    }
   ],
   "source": [
    "# let me try to create a Pandoc object with a list of blocks that are not valid\n",
    "# I don't think pandoc-python enforces the type system\n",
    "pd = PT.Pandoc(PT.Meta({}), [PT.Str(\"Hello world!\")])\n",
    "pjson = pandoc.write(pd, format=\"json\")\n",
    "pjson\n",
    "\n",
    "# read pjson in with panflute\n",
    "try:\n",
    "    pfd = pf.convert_text(pjson, input_format='json', output_format='panflute')\n",
    "except Exception as e:\n",
    "    print(e)\n"
   ]
  },
  {
   "cell_type": "code",
   "execution_count": 29,
   "metadata": {},
   "outputs": [],
   "source": [
    "# grab selected Bike etree to convert to panflute\n",
    "\n",
    "def bike_selected_to_pfd_pd(heading_level):\n",
    "    bike = Bike()\n",
    "\n",
    "    d = bike.windows[0].document\n",
    "    etree = d.lxml_etree(from_=d.selection_rows)\n",
    "\n",
    "    pfd = etree_to_panflute(etree, only_doc_children=True)\n",
    "    pd = pandoc.read(json.dumps(pfd.to_json()), format=\"json\")\n",
    "\n",
    "    return (pfd, pd)\n",
    "\n"
   ]
  },
  {
   "cell_type": "code",
   "execution_count": 84,
   "metadata": {},
   "outputs": [],
   "source": [
    "(pfd, pd) = bike_selected_to_pfd_pd(heading_level=1)\n",
    "\n"
   ]
  },
  {
   "cell_type": "code",
   "execution_count": 44,
   "metadata": {},
   "outputs": [
    {
     "data": {
      "text/plain": [
       "False"
      ]
     },
     "execution_count": 44,
     "metadata": {},
     "output_type": "execute_result"
    }
   ],
   "source": [
    "issubclass(pf.Para, pf.Inline)"
   ]
  },
  {
   "cell_type": "code",
   "execution_count": 62,
   "metadata": {},
   "outputs": [
    {
     "data": {
      "text/plain": [
       "'Header'"
      ]
     },
     "execution_count": 62,
     "metadata": {},
     "output_type": "execute_result"
    }
   ],
   "source": [
    "pfd.content[0].tag"
   ]
  },
  {
   "cell_type": "code",
   "execution_count": 76,
   "metadata": {},
   "outputs": [
    {
     "name": "stdout",
     "output_type": "stream",
     "text": [
      "ListItem\n",
      "ListItem\n",
      "ListItem\n",
      "ListItem\n",
      "ListItem\n"
     ]
    },
    {
     "data": {
      "text/plain": [
       "('mixed', set())"
      ]
     },
     "execution_count": 76,
     "metadata": {},
     "output_type": "execute_result"
    }
   ],
   "source": [
    "for e in pfd.content[1].content:\n",
    "    print(e.tag)\n",
    "\n",
    "content_type(pfd.content[1])"
   ]
  },
  {
   "cell_type": "code",
   "execution_count": 103,
   "metadata": {},
   "outputs": [
    {
     "data": {
      "text/plain": [
       "\"<?xml version='1.0' encoding='utf-8'?>\\n<p>\\n  <em>hi</em>\\n  <strong>world</strong>\\n</p>\\n\""
      ]
     },
     "execution_count": 103,
     "metadata": {},
     "output_type": "execute_result"
    }
   ],
   "source": [
    "# etree = ET.fromstring(\"<p/>\")\n",
    "etree = ET.Element('p')\n",
    "# etree.text = \"cookies & cream\"\n",
    "etree.append( ET.fromstring(\"<em>hi</em>\") )\n",
    "etree.append( ET.fromstring(\"<strong>world</strong>\") )\n",
    "\n",
    "# set the context of p to <em>hi</em> with etree\n",
    "ET.tostring(etree, pretty_print=True, encoding=\"utf-8\", xml_declaration=True).decode('utf-8')   "
   ]
  },
  {
   "cell_type": "code",
   "execution_count": null,
   "metadata": {},
   "outputs": [],
   "source": [
    "# test whether the content elements of e are Block elements or Inline elements or MetaValue\n",
    "\n",
    "def no_content(e):\n",
    "    return not hasattr(e, 'content')\n",
    "\n",
    "def is_block(e):\n",
    "    if hasattr(e, 'content'):\n",
    "        return all([issubclass(type(c), pf.Block) for c in e.content])\n",
    "    else:\n",
    "        return False\n",
    "\n",
    "def is_inline(e):\n",
    "    if hasattr(e, 'content'):\n",
    "        return all([issubclass(type(c), pf.Inline) for c in e.content])\n",
    "    else:\n",
    "        return False\n",
    "    \n",
    "def is_inline_or_contentless(e):\n",
    "    if hasattr(e, 'content'):\n",
    "        return all([issubclass(type(c), pf.Inline) for c in e.content])\n",
    "    else:\n",
    "        return True\n",
    "    \n",
    "def is_metavalue(e):\n",
    "    if hasattr(e, 'content'):\n",
    "        return all([issubclass(type(c), pf.MetaValue) for c in e.content])\n",
    "    else:\n",
    "        return False\n",
    "\n",
    "def one_and_only_one_true(bool_list):\n",
    "    true_count = sum(bool_list)\n",
    "    return true_count == 1\n",
    "\n",
    "# returns one of \"none\" , \"block\", \"inline\", \"metavalue\"\n",
    "def content_type(e):\n",
    "    type_ = set()\n",
    "    if no_content(e):\n",
    "        return \"none\"\n",
    "    if is_block(e):\n",
    "        type_.add(\"block\")\n",
    "    if is_inline(e):\n",
    "        type_.add(\"inline\")\n",
    "    if is_metavalue(e):\n",
    "        type_.add(\"metavalue\")\n",
    "    if len(type_) == 1:\n",
    "        return type_.pop()\n",
    "    else:\n",
    "        return (\"mixed\", type_)\n",
    "    \n",
    "\n",
    "def other_h(e):\n",
    "    return (\"other_h\", e.tag, is_inline_or_contentless(e))\n",
    "\n",
    "def Doc_h(e):\n",
    "    return (\"Doc\", len(e.content))\n",
    "\n",
    "def Header_h(e):\n",
    "    return (\"Header\", e.level, e.identifier, e.classes, e.attributes, pf.stringify(e), is_inline_or_contentless(e))\n",
    "\n",
    "def Para_h(e):\n",
    "    return (\"Para\", pf.stringify(e), is_inline_or_contentless(e))\n",
    "\n",
    "def inline_h(e):\n",
    "    \"\"\"TO DO: handle rich text later\"\"\"\n",
    "    return (e.tag, pf.stringify(e))\n",
    "\n",
    "e2f = {\n",
    "    'Doc': Doc_h,\n",
    "    'Header': Header_h,\n",
    "    \"Para\": Para_h\n",
    "}\n",
    "\n",
    "def empty_bike_etree() -> ET.Element:\n",
    "    etree = ET.Element(\"html\", nsmap=namespaces)\n",
    "\n",
    "    # add a head\n",
    "    head = ET.SubElement(etree, \"head\")\n",
    "    meta = ET.SubElement(head, \"meta\", attrib={\"charset\": \"utf-8\"})\n",
    "\n",
    "    # add a body\n",
    "    body = ET.SubElement(etree, \"body\")\n",
    "\n",
    "    # add a root ul to body\n",
    "    root_ul = ET.SubElement(\n",
    "        body, \"ul\", attrib={\"id\": generate_unique_id_attribute(8, ids(etree))}\n",
    "    )\n",
    "\n",
    "    return etree\n",
    "\n",
    "def add_ids_to_bike_etree(etree):\n",
    "    \"\"\" to the root ul, add ids to all the li elements if ids are not present \"\"\" \n",
    "    # get root ul of etree\n",
    "    root_ul = etree.xpath(\"//ul\")[0]\n",
    "    if root_ul.attrib.get(\"id\") is None:\n",
    "        root_ul.attrib[\"id\"] = generate_unique_id_attribute(8, ids(etree))\n",
    "\n",
    "    # get all the li elements\n",
    "    li_elems = root_ul.xpath(\".//li\")\n",
    "    for li_elem in li_elems:\n",
    "        if li_elem.attrib.get(\"id\") is None:\n",
    "            li_elem.attrib[\"id\"] = generate_unique_id_attribute(5, ids(etree))\n",
    "\n",
    "    return etree\n",
    "    \n",
    "\n",
    "def panflute_to_bike_etree(pfe) -> ET.Element:\n",
    "    \"\"\"\n",
    "    pfe: panflute element    \n",
    "    base_header_level: the base header level to use for the document\n",
    "    TO DO: handle different header levels -- might need to abandon this approach in favor of non-recursive approach with a manual stack\n",
    "    \"\"\"\n",
    "\n",
    "    if is_inline_or_contentless(pfe):\n",
    "        p_elem = ET.Element(\"p\")\n",
    "        p_elem.text = pf.stringify(pfe).strip()\n",
    "        return p_elem\n",
    "    else:\n",
    "        if pfe.tag == \"Doc\":\n",
    "            etree = empty_bike_etree()\n",
    "            ul_elem = etree.xpath(\"//ul\")[0]\n",
    "        else:\n",
    "            ul_elem = ET.Element(\"ul\")\n",
    "\n",
    "        try:\n",
    "            for c in pfe.content:\n",
    "                e = panflute_to_bike_etree(c)\n",
    "                li_elem = ET.SubElement(ul_elem, \"li\")\n",
    "                li_elem.append(e)\n",
    "        except AttributeError:\n",
    "            pass\n",
    "        else:\n",
    "            if pfe.tag == \"Doc\":\n",
    "                etree = add_ids_to_bike_etree(etree)\n",
    "                return etree\n",
    "            else:\n",
    "                return ul_elem\n",
    "\n",
    "\n",
    "\n",
    "\n",
    "    # print(ET.tostring(etree, pretty_print=True, encoding=\"utf-8\", xml_declaration=True).decode('utf-8'))\n",
    "\n",
    "\n",
    "\n",
    "def walk_pfd(e, level=0):\n",
    "    if is_inline_or_contentless(e):\n",
    "        print(\"  \" * level, inline_h(e))\n",
    "    else:\n",
    "        f = e2f.get(e.tag, other_h)\n",
    "        print(\"  \" * level, e.tag, f,  f(e))\n",
    "        try:\n",
    "            for c in e.content:\n",
    "                walk_pfd(c, level + 1)\n",
    "        except AttributeError:\n",
    "            pass\n",
    "\n",
    "walk_pfd(pfd)\n",
    "\n",
    "\n",
    "# print(pf.stringify(pfd))"
   ]
  },
  {
   "cell_type": "code",
   "execution_count": 165,
   "metadata": {},
   "outputs": [],
   "source": [
    "def panflute_to_bike_etree(pfe) -> ET.Element:\n",
    "    \"\"\"\n",
    "    pfe: panflute element    \n",
    "    base_header_level: the base header level to use for the document\n",
    "    TO DO: handle different header levels -- might need to abandon this approach in favor of non-recursive approach with a manual stack\n",
    "    \"\"\"\n",
    "\n",
    "    if is_inline_or_contentless(pfe):\n",
    "        p_elem = ET.Element(\"p\")\n",
    "        p_elem.text = pf.stringify(pfe).strip()\n",
    "        return p_elem\n",
    "    else:\n",
    "        if pfe.tag == \"Doc\":\n",
    "            etree = empty_bike_etree()\n",
    "            ul_elem = etree.xpath(\"//ul\")[0]\n",
    "        else:\n",
    "            ul_elem = ET.Element(\"ul\")\n",
    "\n",
    "        try:\n",
    "            for c in pfe.content:\n",
    "                e = panflute_to_bike_etree(c)\n",
    "                li_elem = ET.SubElement(ul_elem, \"li\")\n",
    "                li_elem.append(e)\n",
    "        except AttributeError:\n",
    "            pass\n",
    "        else:\n",
    "            if pfe.tag == \"Doc\":\n",
    "                etree = add_ids_to_bike_etree(etree)\n",
    "                return etree\n",
    "            else:\n",
    "                return ul_elem\n",
    "\n",
    "\n"
   ]
  },
  {
   "cell_type": "code",
   "execution_count": 134,
   "metadata": {},
   "outputs": [
    {
     "data": {
      "text/plain": [
       "PosixPath('/Users/raymondyee/obsidian/MainRY/bike/test_20231010.bike')"
      ]
     },
     "execution_count": 134,
     "metadata": {},
     "output_type": "execute_result"
    }
   ],
   "source": [
    "out_path = P().home() / \"obsidian\" / \"MainRY\" / \"bike\" / \"test_20231010.bike\"\n",
    "out_path"
   ]
  },
  {
   "cell_type": "code",
   "execution_count": 204,
   "metadata": {},
   "outputs": [
    {
     "name": "stdout",
     "output_type": "stream",
     "text": [
      " Doc\n",
      "   Header\n",
      "     Str\n",
      "   Para\n",
      "     Str\n"
     ]
    }
   ],
   "source": [
    "walk_element(pfd, level=0)"
   ]
  },
  {
   "cell_type": "code",
   "execution_count": 234,
   "metadata": {},
   "outputs": [],
   "source": [
    "def walk_element_nr(e, level=0):\n",
    "    \"\"\" non-recursive walk of an element \"\"\"\n",
    "    stack = [(e, level)]\n",
    "    while stack:\n",
    "        (e, level) = stack.pop()\n",
    "        print(\"  \" * level, e.tag)\n",
    "        try:\n",
    "            for c in reversed(e.content):\n",
    "                stack.append((c, level + 1))\n",
    "        except AttributeError:\n",
    "            pass\n",
    "\n",
    "\n",
    "def find_ul_ancestor(e, max_level):\n",
    "    ancestor = e.getparent()\n",
    "    while ancestor is not None:\n",
    "        if ancestor.tag == \"ul\":\n",
    "            data_level = ancestor.get('data-level', 0)\n",
    "            if int(data_level) <= max_level:\n",
    "                return ancestor\n",
    "        ancestor = ancestor.getparent()\n",
    "    return None\n",
    "\n",
    "\n",
    "def panflute_to_bike_etree_nr(e, level=0) -> ET.Element:\n",
    "\n",
    "    # questions about how header levels are handled as we put them into the etree\n",
    "    etree = None\n",
    "    stack = [(e, level)]\n",
    "    # current ul_elem\n",
    "    ul_elem = None\n",
    "    heading_level = 0\n",
    "\n",
    "\n",
    "    while stack:\n",
    "        (e, level) = stack.pop()\n",
    "        print(\"  \" * level, e.tag)\n",
    "\n",
    "        if is_inline_or_contentless(e):\n",
    "\n",
    "            li_elem = ET.Element(\"li\")\n",
    "\n",
    "            # TO DO: handle rich text\n",
    "            p_elem = ET.SubElement(li_elem, \"p\")\n",
    "            p_elem.text = pf.stringify(e).strip()\n",
    "\n",
    "            # 2 things to figure out: parent_ul (where to attach li_elem) and what the current ul_elem is\n",
    "\n",
    "            if e.tag == \"Header\":\n",
    "                print (\"header\", e.level, e.identifier, e.classes, e.attributes, pf.stringify(e))\n",
    "                li_elem.attrib[\"data-type\"] = \"heading\"\n",
    "                li_elem.attrib[\"data-level\"] = str(e.level)\n",
    "\n",
    "                if e.level > heading_level:\n",
    "                    # child\n",
    "                    parent_ul = ul_elem\n",
    "                    print (\"e.level > heading_level\", ul_elem)\n",
    "                elif e.level == heading_level:\n",
    "                    # sibling\n",
    "                    # parent_ul has to be ul parent of ul_elem                    \n",
    "                    parent_ul = ul_elem.getparent().getparent()\n",
    "                else:\n",
    "                    # e.level < heading_level\n",
    "                    # uncle or higher\n",
    "                    parent_ul = find_ul_ancestor(ul_elem, int(e.level)-1)\n",
    "\n",
    "                heading_level = e.level\n",
    "                ul_elem = ET.SubElement(li_elem, \"ul\")\n",
    "                parent_ul.append(li_elem)\n",
    "            else:\n",
    "                ul_elem.append(li_elem)\n",
    "\n",
    "                \n",
    "        else:\n",
    "            if e.tag == \"Doc\":\n",
    "                etree = empty_bike_etree()\n",
    "                ul_elem = etree.xpath(\"//ul\")[0]\n",
    "            else:\n",
    "                # BulletList\n",
    "                # OrderedList\n",
    "                # ListItem\n",
    "                print(\"block\", e.tag)\n",
    "\n",
    "            try:\n",
    "                for c in reversed(e.content):\n",
    "                    stack.append((c, level + 1))\n",
    "            except AttributeError:\n",
    "                pass\n",
    "    \n",
    "    # clean up etree by adding ids\n",
    "    etree = add_ids_to_bike_etree(etree)\n",
    "    return etree\n",
    "\n"
   ]
  },
  {
   "cell_type": "code",
   "execution_count": 236,
   "metadata": {},
   "outputs": [
    {
     "name": "stdout",
     "output_type": "stream",
     "text": [
      " Doc\n",
      "   Header\n",
      "header 1  [] {} 2023.10.09\n",
      "e.level > heading_level <Element ul at 0x12da12980>\n",
      "   Header\n",
      "header 2  [] {} Daily Flow\n",
      "e.level > heading_level <Element ul at 0x12da13c80>\n",
      "   Para\n",
      "   Para\n",
      "   Header\n",
      "header 2  [] {} MyInfoCamp\n",
      "   Para\n",
      "   Para\n",
      "   BulletList\n",
      "block BulletList\n",
      "     ListItem\n",
      "block ListItem\n",
      "       Plain\n",
      "     ListItem\n",
      "block ListItem\n",
      "       Plain\n",
      "   Header\n",
      "header 2  [] {} Serious Adulting\n",
      "   Header\n",
      "header 3  [] {} Covered California 2023-2024\n",
      "e.level > heading_level <Element ul at 0x12d578180>\n",
      "   BulletList\n",
      "block BulletList\n",
      "     ListItem\n",
      "block ListItem\n",
      "       Plain\n",
      "     ListItem\n",
      "block ListItem\n",
      "       Plain\n",
      "     ListItem\n",
      "block ListItem\n",
      "       Para\n",
      "     ListItem\n",
      "block ListItem\n",
      "       Para\n",
      "     ListItem\n",
      "block ListItem\n",
      "       Para\n",
      "     ListItem\n",
      "block ListItem\n",
      "       Para\n",
      "     ListItem\n",
      "block ListItem\n",
      "       Para\n",
      "     ListItem\n",
      "block ListItem\n",
      "       Para\n",
      "     ListItem\n",
      "block ListItem\n",
      "       Para\n",
      "     ListItem\n",
      "block ListItem\n",
      "       Para\n",
      "     ListItem\n",
      "block ListItem\n",
      "       Para\n",
      "     ListItem\n",
      "block ListItem\n",
      "       Para\n",
      "     ListItem\n",
      "block ListItem\n",
      "       Para\n",
      "     ListItem\n",
      "block ListItem\n",
      "       Para\n",
      "     ListItem\n",
      "block ListItem\n",
      "       Para\n",
      "     ListItem\n",
      "block ListItem\n",
      "       Para\n",
      "     ListItem\n",
      "block ListItem\n",
      "       Para\n",
      "   Para\n",
      "   Para\n",
      "   Para\n",
      "   Para\n",
      "   Para\n",
      "   Para\n",
      "   Para\n"
     ]
    }
   ],
   "source": [
    "(pfd, pd) = bike_selected_to_pfd_pd(heading_level=1)\n",
    "# etree = panflute_to_bike_etree(pfd)\n",
    "# etree = panflute_to_bike_etree_non_recursive(pfd)\n",
    "etree = panflute_to_bike_etree_nr(pfd)\n",
    "\n",
    "\n",
    "with out_path.open(\"w\") as f:\n",
    "    f.write(ET.tostring(etree, pretty_print=True, encoding=\"utf-8\", xml_declaration=True).decode('utf-8'))\n",
    "\n"
   ]
  },
  {
   "cell_type": "code",
   "execution_count": 158,
   "metadata": {},
   "outputs": [
    {
     "name": "stdout",
     "output_type": "stream",
     "text": [
      "MetaMap None\n",
      "Str 0\n",
      "Header 0\n",
      "Str 0\n",
      "Para 1\n",
      "Doc None\n"
     ]
    },
    {
     "data": {
      "text/plain": [
       "Doc"
      ]
     },
     "execution_count": 158,
     "metadata": {},
     "output_type": "execute_result"
    }
   ],
   "source": [
    "# walk_element_nr(pfd)\n",
    "\n",
    "def prepare(doc):\n",
    "    pass\n",
    "\n",
    "def action(elem, doc):\n",
    "    if isinstance(elem, pf.Element):\n",
    "        print(elem.tag, elem.index)\n",
    "\n",
    "# Usage\n",
    "pf.run_filter(action, prepare=prepare, doc=pfd)\n"
   ]
  },
  {
   "cell_type": "code",
   "execution_count": 162,
   "metadata": {},
   "outputs": [
    {
     "name": "stdout",
     "output_type": "stream",
     "text": [
      "MetaMap None\n",
      "Str 0\n",
      "Header 0\n",
      "Str 0\n",
      "Para 1\n",
      "Doc None\n"
     ]
    },
    {
     "data": {
      "text/plain": [
       "Doc"
      ]
     },
     "execution_count": 162,
     "metadata": {},
     "output_type": "execute_result"
    }
   ],
   "source": [
    "pfd.walk(action)"
   ]
  },
  {
   "cell_type": "code",
   "execution_count": null,
   "metadata": {},
   "outputs": [],
   "source": [
    "issubclass(PT.Para, PT.Block)"
   ]
  },
  {
   "cell_type": "code",
   "execution_count": null,
   "metadata": {},
   "outputs": [],
   "source": [
    "issubclass(PT.Para, PT.Constructor), issubclass(PT.Block, PT.Constructor), type(PT.Block), type(PT.Inline), type(PT.Para)"
   ]
  },
  {
   "cell_type": "code",
   "execution_count": null,
   "metadata": {},
   "outputs": [],
   "source": []
  },
  {
   "cell_type": "code",
   "execution_count": null,
   "metadata": {},
   "outputs": [],
   "source": [
    "p = P.home() / \"obsidian\" / \"MainRY\" / \"bike\" / \"test_20230915.bike\"\n",
    "\n",
    "\n",
    "def sort_rows(r):\n",
    "    sort_order = sorted([(x.id.get(), x.name.get()) for x in r.rows()], key=lambda x: int(x[1]), reverse=False)\n",
    "\n",
    "    for (id_, name) in sort_order:\n",
    "        r_from = bike_doc.rawdoc.rows[its.id == id_].get()[0]\n",
    "        r.move(r_from,to=r.rows.end)\n",
    "\n",
    "\n",
    "if p.exists():\n",
    "    # open the file\n",
    "    bike.open(p)\n",
    "    bike_doc = bike.document_by_path(p) # type: BikeDocument\n",
    "else:\n",
    "    bike_doc = BikeDocument(bike)\n",
    "    bike_doc.save(p)\n",
    "\n",
    "# bike_doc.rawdoc.rows.delete()\n",
    "# see whether I can get a row named \"Daily Notes\"\n",
    "# check that there is one and only one row named \"Daily Notes\"\n",
    "\n",
    "r = bike_doc.rawdoc.rows[its.name == \"Daily Notes\"].get()\n",
    "if len(r) == 0:\n",
    "    r = bike_doc.rawdoc.make(new=k.row, with_properties={k.name: \"Daily Notes\"})\n",
    "elif len(r) > 1:\n",
    "    raise Exception(\"more than one row named Daily Notes\")\n",
    "else:\n",
    "    r = r[0]\n",
    "\n",
    "r.type.set(k.heading)\n",
    "r.rows.delete()\n",
    "\n",
    "# create a list of 15 random numbers between 0 and 100 under the Daily Notes row\n",
    "for i in range(15):\n",
    "    r.make(new=k.row, with_properties={k.name: str(random.randint(0,1000))})\n",
    "    \n",
    "sort_rows(r)\n",
    "\n"
   ]
  },
  {
   "cell_type": "code",
   "execution_count": null,
   "metadata": {},
   "outputs": [],
   "source": [
    "r.rows"
   ]
  },
  {
   "cell_type": "code",
   "execution_count": null,
   "metadata": {},
   "outputs": [],
   "source": [
    "# get id, name of children\n"
   ]
  },
  {
   "cell_type": "code",
   "execution_count": null,
   "metadata": {},
   "outputs": [],
   "source": [
    "# bike_doc.rawdoc.rows[its.name == \"Daily Notes\"].get()\n",
    "r_from = bike_doc.rawdoc.rows[its.id == \"2bk\"].get()[0]\n",
    "r_from"
   ]
  },
  {
   "cell_type": "code",
   "execution_count": null,
   "metadata": {},
   "outputs": [],
   "source": [
    "# do a manual move of a row\n",
    "# move the first item to the end\n",
    "# r.move(r.rows[1], to=r.rows.end)\n",
    "r.move(r_from,to=r.rows.end)"
   ]
  },
  {
   "cell_type": "code",
   "execution_count": null,
   "metadata": {},
   "outputs": [],
   "source": [
    "r.rows[0].get(), r.rows[1].get(), r.rows[2].get()"
   ]
  },
  {
   "cell_type": "code",
   "execution_count": null,
   "metadata": {},
   "outputs": [],
   "source": [
    "bike_doc.ids"
   ]
  },
  {
   "cell_type": "code",
   "execution_count": null,
   "metadata": {},
   "outputs": [],
   "source": [
    "\n",
    "# adding a row by manipulating the DOM\n",
    "# create a new li\n",
    "new_li = etree.Element(\"li\")\n",
    "# create an id for the li\n",
    "new_li.attrib[\"id\"] = generate_unique_id_attribute(4, bike_doc.ids)\n",
    "# no text in the li\n",
    "# create a new p\n",
    "new_p = etree.Element(\"p\")\n",
    "new_p.text = \"new p\"\n",
    "# append the p to the li\n",
    "new_li.append(new_p)\n",
    "\n",
    "# append to xhtml\n",
    "# is root_url a reference to the original DOM or value?\n",
    "root_ul.append(new_li)\n",
    "# replace the root ul with the modified one in xhtml\n",
    "\n",
    "\n"
   ]
  },
  {
   "cell_type": "code",
   "execution_count": null,
   "metadata": {},
   "outputs": [],
   "source": [
    "print(ET.tostring(xhtml, pretty_print=True).decode(\"utf-8\"))"
   ]
  },
  {
   "cell_type": "code",
   "execution_count": null,
   "metadata": {},
   "outputs": [],
   "source": [
    "# from copy import deepcopy\n",
    "# how to copy xhtml etree object\n",
    "# xhtml_copy = deepcopy(xhtml)\n",
    "\n",
    "xhtml = bike_doc.lxml_etree()\n",
    "\n"
   ]
  },
  {
   "cell_type": "code",
   "execution_count": null,
   "metadata": {},
   "outputs": [],
   "source": [
    "def reimport_bike(bike_doc, tranformer=None):\n",
    "    # source = bike_doc.rawdoc.export(as_=k.bike_format)\n",
    "    source = bike_doc.lxml_etree()\n",
    "    # opportunity to transform the source\n",
    "    if tranformer:\n",
    "        source = tranformer(source)\n",
    "\n",
    "    # delete all rows\n",
    "    bike_doc.rawdoc.rows.delete()\n",
    "    bike_doc.rawdoc.import_(from_=ET.tostring(source, pretty_print=True).decode(\"utf-8\"),\n",
    "                       # to=bike_doc.root_row.rawrow.after, \n",
    "                       as_=k.bike_format)\n",
    "    \n",
    "\n",
    "def add_ryid(xhtml):\n",
    "\n",
    "    context = ET.iterwalk(xhtml, events=('start',))\n",
    "    for action, elem in context:\n",
    "        if elem.tag == f'{NS}li':\n",
    "            elem.attrib[\"ryid\"] = \"\" \n",
    "    return xhtml\n",
    " \n",
    "\n"
   ]
  },
  {
   "cell_type": "code",
   "execution_count": null,
   "metadata": {},
   "outputs": [],
   "source": [
    "bike_doc.file"
   ]
  },
  {
   "cell_type": "code",
   "execution_count": null,
   "metadata": {},
   "outputs": [],
   "source": [
    "reimport_bike(bike_doc, tranformer=add_ryid)\n",
    "bike_doc.save()"
   ]
  },
  {
   "cell_type": "code",
   "execution_count": null,
   "metadata": {},
   "outputs": [],
   "source": [
    "import os\n",
    "from lxml import etree\n",
    "\n",
    "# Your original XML document\n",
    "original_xml = '''<root>\n",
    "    <setting name=\"CorsTrustedOrigins\" serializeAs=\"Xml\">\n",
    "        <value>\n",
    "            <ArrayOfString>\n",
    "                <string>http://example.com</string>\n",
    "            </ArrayOfString>\n",
    "        </value>\n",
    "    </setting>\n",
    "</root>'''\n",
    "\n",
    "# The new XML element you want to replace the current xpath'ed element with\n",
    "new_xml = '''<setting name=\"CorsTrustedOrigins\" serializeAs=\"Xml\">\n",
    "    <value>\n",
    "        <ArrayOfString>\n",
    "            <string>http://maddafakka</string>\n",
    "        </ArrayOfString>\n",
    "    </value>\n",
    "</setting>'''\n",
    "\n",
    "# Parse the original XML document\n",
    "tree = etree.fromstring(original_xml)\n",
    "\n",
    "# Find the element you want to replace\n",
    "value = tree.find('.//ArrayOfString')\n",
    "\n",
    "# Parse the new XML element\n",
    "new_tree = etree.fromstring(new_xml)\n",
    "\n",
    "# Replace the old element with the new one\n",
    "value.getparent().replace(value, new_tree.find('.//ArrayOfString'))\n",
    "\n",
    "# Print the modified XML document\n",
    "print(etree.tostring(tree, pretty_print=True).decode('utf-8'))"
   ]
  },
  {
   "cell_type": "code",
   "execution_count": null,
   "metadata": {},
   "outputs": [],
   "source": [
    "ET.tostring(value)"
   ]
  },
  {
   "cell_type": "code",
   "execution_count": null,
   "metadata": {},
   "outputs": [],
   "source": [
    "print(ET.tostring(root_ul, pretty_print=True).decode(\"utf-8\"))"
   ]
  }
 ],
 "metadata": {
  "kernelspec": {
   "display_name": "myenv-3.11.3",
   "language": "python",
   "name": "python3"
  },
  "language_info": {
   "codemirror_mode": {
    "name": "ipython",
    "version": 3
   },
   "file_extension": ".py",
   "mimetype": "text/x-python",
   "name": "python",
   "nbconvert_exporter": "python",
   "pygments_lexer": "ipython3",
   "version": "3.11.3"
  },
  "orig_nbformat": 4
 },
 "nbformat": 4,
 "nbformat_minor": 2
}
