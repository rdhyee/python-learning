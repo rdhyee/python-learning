{
 "cells": [
  {
   "cell_type": "markdown",
   "id": "35a7c649-810c-4257-aaad-1a4d88df6598",
   "metadata": {},
   "source": [
    "https://www.recurse.com/pairing-tasks\n",
    "\n",
    "> Lisp parser\n",
    "\n",
    "> Write code that takes some Lisp code and returns an abstract syntax tree. The AST should represent the structure of the code and the meaning of each token. For example, if your code is given \"(first (list 1 (+ 2 3) 9))\", it could return a nested array like [\"first\", [\"list\", 1, [\"+\", 2, 3], 9]].\n",
    "\n",
    "> During your interview, you will pair on writing an interpreter to run the AST. You can start by implementing a single built-in function (for example, +) and add more if you have time."
   ]
  },
  {
   "cell_type": "code",
   "execution_count": 1,
   "id": "8855c38c-f2a2-4229-ad3d-715eeb94deb5",
   "metadata": {},
   "outputs": [],
   "source": [
    "# first pass: deal with only spaces, ( and ) as reserved characters for tokenizing a string\n",
    "\n",
    "TEST_INPUT = \"(first (list 1 (+ 2 3) 9))\"\n",
    "TEST_OUTPUT = [\"first\", [\"list\", 1, [\"+\", 2, 3], 9]]"
   ]
  },
  {
   "cell_type": "code",
   "execution_count": 2,
   "id": "e014953c-5d40-4168-876f-456713421c1f",
   "metadata": {},
   "outputs": [],
   "source": [
    "def raw_tokenize(s):\n",
    "    # replace ( and ) with surrounding spaces \n",
    "    s = s.replace('(', ' ( ').replace(')', ' ) ')\n",
    "    return s.split()\n",
    "\n",
    "# convert a string to a number if possible\n",
    "# in Python, what are the native numeric types?\n",
    "\n",
    "def to_int(s):\n",
    "    try:\n",
    "        return int(s)\n",
    "    except:\n",
    "        return s\n",
    "\n",
    "def typify_token(s):\n",
    "    \"\"\"\n",
    "    for now, convert the token to an int if possible, otherwise leave token as a string\n",
    "    \"\"\"\n",
    "    return to_int(s)\n",
    "\n",
    "def tokenize(s):\n",
    "    return [typify_token(t) for t in raw_tokenize(s)]\n"
   ]
  },
  {
   "cell_type": "code",
   "execution_count": 3,
   "id": "16c38086-7520-4bc6-ba86-2352f2aa1651",
   "metadata": {},
   "outputs": [
    {
     "data": {
      "text/plain": [
       "['first', '(', 'list', 1, '(', '+', 2, 3, ')', 9, ')', ')']"
      ]
     },
     "execution_count": 3,
     "metadata": {},
     "output_type": "execute_result"
    }
   ],
   "source": [
    "tokens = tokenize(\"first (list 1 (+ 2 3) 9))\")\n",
    "tokens"
   ]
  },
  {
   "cell_type": "code",
   "execution_count": 7,
   "id": "acfe4178-9060-4d5b-af88-ea67920009c8",
   "metadata": {},
   "outputs": [],
   "source": [
    "def ast_from_tokens(tokens):\n",
    "\n",
    "    stack = []\n",
    "\n",
    "    for (i, token) in enumerate(tokens):\n",
    "        if token == '(':\n",
    "            stack.append([])\n",
    "        elif token == ')':\n",
    "            # pop the list on the top of the stack\n",
    "            # and append it to the end of the preceding layer\n",
    "            try:\n",
    "                top = stack.pop()\n",
    "            except Exception as e:\n",
    "                raise Exception(\"Closing ) without corresponding (\")\n",
    "            else:    \n",
    "                if len(stack) > 0:\n",
    "                    stack[-1].append(top)\n",
    "                else:\n",
    "                    if i+1 == len(tokens):\n",
    "                        return top\n",
    "                    else:\n",
    "                        raise Exception(\"Extra tokens beyond valid expression\")\n",
    "                \n",
    "        else:\n",
    "            # append item to the list at the top of the stack\n",
    "            try:\n",
    "                stack[-1].append(token)\n",
    "            except Exception as e:\n",
    "                raise Exception(\"Missing opening (\")\n",
    "\n",
    "    if len(stack) > 0:\n",
    "        raise Exception(\"Missing closing )\")\n"
   ]
  },
  {
   "cell_type": "code",
   "execution_count": 8,
   "id": "eb68077f-b82b-4e16-87b1-3c2e2a48f4c7",
   "metadata": {},
   "outputs": [
    {
     "data": {
      "text/plain": [
       "['first', ['list', 1, ['+', 2, 3], 9]]"
      ]
     },
     "execution_count": 8,
     "metadata": {},
     "output_type": "execute_result"
    }
   ],
   "source": [
    "ast_from_tokens(tokenize(TEST_INPUT))"
   ]
  },
  {
   "cell_type": "code",
   "execution_count": 9,
   "id": "7e88b0d6-1b88-49cc-bbbb-c7b0f72b41eb",
   "metadata": {},
   "outputs": [],
   "source": [
    "ast_from_tokens(tokenize(\"(first list 1 (+ 2 3) 9\"))"
   ]
  },
  {
   "cell_type": "code",
   "execution_count": null,
   "id": "f249555d-914f-4c03-95d4-47dc92508daf",
   "metadata": {},
   "outputs": [],
   "source": [
    "# using Claude 2 -- response to can I make use of Python's ast library to distinguish strings that look like int vs float?\n",
    "# then I asked for a fix\n",
    "\n",
    "import ast\n",
    "\n",
    "def int_or_float(s):\n",
    "  try:\n",
    "    node = ast.parse(s)\n",
    "  except SyntaxError:\n",
    "    return 'unknown'\n",
    "\n",
    "  if isinstance(node.body[0].value, ast.Num):\n",
    "    if isinstance(node.body[0].value.n, int):\n",
    "      return 'int'\n",
    "    elif isinstance(node.body[0].value.n, float):\n",
    "      return 'float'\n",
    "    else:\n",
    "      return 'unknown'\n",
    "  else:\n",
    "    return 'unknown'\n",
    "\n",
    "print(int_or_float('42')) # int\n",
    "print(int_or_float('3.14')) # float  \n",
    "print(int_or_float('abc')) # unknown"
   ]
  },
  {
   "cell_type": "code",
   "execution_count": null,
   "id": "5f9dcad8-1fbb-455a-9d21-9a6c2ff941bf",
   "metadata": {},
   "outputs": [],
   "source": []
  }
 ],
 "metadata": {
  "kernelspec": {
   "display_name": "Python 3 (ipykernel)",
   "language": "python",
   "name": "python3"
  },
  "language_info": {
   "codemirror_mode": {
    "name": "ipython",
    "version": 3
   },
   "file_extension": ".py",
   "mimetype": "text/x-python",
   "name": "python",
   "nbconvert_exporter": "python",
   "pygments_lexer": "ipython3",
   "version": "3.11.3"
  }
 },
 "nbformat": 4,
 "nbformat_minor": 5
}
