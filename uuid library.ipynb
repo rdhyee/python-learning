{
 "cells": [
  {
   "cell_type": "code",
   "execution_count": 2,
   "metadata": {},
   "outputs": [
    {
     "data": {
      "text/plain": [
       "['Enum',\n",
       " 'NAMESPACE_DNS',\n",
       " 'NAMESPACE_OID',\n",
       " 'NAMESPACE_URL',\n",
       " 'NAMESPACE_X500',\n",
       " 'RESERVED_FUTURE',\n",
       " 'RESERVED_MICROSOFT',\n",
       " 'RESERVED_NCS',\n",
       " 'RFC_4122',\n",
       " 'SafeUUID',\n",
       " 'UUID',\n",
       " '_NODE_GETTERS_UNIX',\n",
       " '_NODE_GETTERS_WIN32',\n",
       " '_UuidCreate',\n",
       " '__author__',\n",
       " '__builtins__',\n",
       " '__cached__',\n",
       " '__doc__',\n",
       " '__file__',\n",
       " '__loader__',\n",
       " '__name__',\n",
       " '__package__',\n",
       " '__spec__',\n",
       " '_arp_getnode',\n",
       " '_find_mac',\n",
       " '_generate_time_safe',\n",
       " '_has_uuid_generate_time_safe',\n",
       " '_ifconfig_getnode',\n",
       " '_ip_getnode',\n",
       " '_ipconfig_getnode',\n",
       " '_is_universal',\n",
       " '_lanscan_getnode',\n",
       " '_last_timestamp',\n",
       " '_load_system_functions',\n",
       " '_netbios_getnode',\n",
       " '_netstat_getnode',\n",
       " '_node',\n",
       " '_popen',\n",
       " '_random_getnode',\n",
       " '_unix_getnode',\n",
       " '_uuid',\n",
       " '_windll_getnode',\n",
       " 'bytes_',\n",
       " 'getnode',\n",
       " 'int_',\n",
       " 'os',\n",
       " 'sys',\n",
       " 'uuid1',\n",
       " 'uuid3',\n",
       " 'uuid4',\n",
       " 'uuid5']"
      ]
     },
     "execution_count": 2,
     "metadata": {},
     "output_type": "execute_result"
    }
   ],
   "source": [
    "import uuid\n",
    "dir(uuid)"
   ]
  },
  {
   "cell_type": "code",
   "execution_count": 7,
   "metadata": {},
   "outputs": [
    {
     "data": {
      "text/plain": [
       "UUID('36da6a10-ab42-11e9-b3a6-fa0718796fcc')"
      ]
     },
     "execution_count": 7,
     "metadata": {},
     "output_type": "execute_result"
    }
   ],
   "source": [
    "u1 = uuid.uuid1()\n",
    "u1"
   ]
  },
  {
   "cell_type": "code",
   "execution_count": 8,
   "metadata": {},
   "outputs": [
    {
     "data": {
      "text/plain": [
       "True"
      ]
     },
     "execution_count": 8,
     "metadata": {},
     "output_type": "execute_result"
    }
   ],
   "source": [
    "u1.is_safe == uuid.SafeUUID.unsafe"
   ]
  },
  {
   "cell_type": "code",
   "execution_count": 9,
   "metadata": {},
   "outputs": [
    {
     "data": {
      "text/plain": [
       "<SafeUUID.unknown: None>"
      ]
     },
     "execution_count": 9,
     "metadata": {},
     "output_type": "execute_result"
    }
   ],
   "source": [
    "u4 = uuid.uuid4()\n",
    "u4.is_safe"
   ]
  },
  {
   "cell_type": "markdown",
   "metadata": {},
   "source": [
    "```Python\n",
    ">>> # make a UUID using a SHA-1 hash of a namespace UUID and a name\n",
    ">>> uuid.uuid5(uuid.NAMESPACE_DNS, 'python.org')\n",
    "UUID('886313e1-3b8a-5372-9b90-0c9aee199e5d')\n",
    "```"
   ]
  },
  {
   "cell_type": "code",
   "execution_count": 11,
   "metadata": {},
   "outputs": [
    {
     "data": {
      "text/plain": [
       "UUID('886313e1-3b8a-5372-9b90-0c9aee199e5d')"
      ]
     },
     "execution_count": 11,
     "metadata": {},
     "output_type": "execute_result"
    }
   ],
   "source": [
    "u5 = uuid.uuid5(uuid.NAMESPACE_DNS, 'python.org')\n",
    "u5"
   ]
  },
  {
   "cell_type": "code",
   "execution_count": 12,
   "metadata": {},
   "outputs": [
    {
     "data": {
      "text/plain": [
       "<SafeUUID.unknown: None>"
      ]
     },
     "execution_count": 12,
     "metadata": {},
     "output_type": "execute_result"
    }
   ],
   "source": [
    "u5.is_safe"
   ]
  },
  {
   "cell_type": "code",
   "execution_count": null,
   "metadata": {},
   "outputs": [],
   "source": []
  }
 ],
 "metadata": {
  "kernelspec": {
   "display_name": "Python 3",
   "language": "python",
   "name": "python3"
  },
  "language_info": {
   "codemirror_mode": {
    "name": "ipython",
    "version": 3
   },
   "file_extension": ".py",
   "mimetype": "text/x-python",
   "name": "python",
   "nbconvert_exporter": "python",
   "pygments_lexer": "ipython3",
   "version": "3.7.3"
  }
 },
 "nbformat": 4,
 "nbformat_minor": 2
}
