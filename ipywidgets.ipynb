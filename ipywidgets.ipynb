{
 "cells": [
  {
   "cell_type": "markdown",
   "metadata": {},
   "source": [
    "[ipywidgets — Jupyter Widgets 7.4.2 documentation](https://ipywidgets.readthedocs.io/en/latest/index.html):\n"
   ]
  },
  {
   "cell_type": "code",
   "execution_count": 1,
   "metadata": {},
   "outputs": [],
   "source": [
    "from __future__ import print_function\n",
    "from ipywidgets import interact, interactive, fixed, interact_manual\n",
    "import ipywidgets as widgets\n",
    "\n",
    "import colorsys"
   ]
  },
  {
   "cell_type": "code",
   "execution_count": 2,
   "metadata": {},
   "outputs": [
    {
     "data": {
      "application/vnd.jupyter.widget-view+json": {
       "model_id": "57685e2cf0f149c8b910d3c408e869b2",
       "version_major": 2,
       "version_minor": 0
      },
      "text/plain": [
       "interactive(children=(IntSlider(value=20, description='x', max=1000), Output()), _dom_classes=('widget-interac…"
      ]
     },
     "metadata": {},
     "output_type": "display_data"
    }
   ],
   "source": [
    "import math\n",
    "\n",
    "@interact(x=(0,1000,1))\n",
    "def f(x=20):\n",
    "    return math.factorial(x)"
   ]
  },
  {
   "cell_type": "markdown",
   "metadata": {},
   "source": [
    "[colorsys — Conversions between color systems — Python 3.7.1rc1 documentation](https://docs.python.org/3.7/library/colorsys.html)"
   ]
  },
  {
   "cell_type": "code",
   "execution_count": 3,
   "metadata": {},
   "outputs": [
    {
     "data": {
      "text/html": [
       "\n",
       "<div style=\"height: 100px; width:300px; background-color: rgba(255, 0, 0, 1.0);\">\n",
       "</div>\n"
      ],
      "text/plain": [
       "<IPython.core.display.HTML object>"
      ]
     },
     "metadata": {},
     "output_type": "display_data"
    }
   ],
   "source": [
    "from IPython.display import display, HTML\n",
    "\n",
    "html_ = \"\"\"\n",
    "<div style=\"height: 100px; width:300px; background-color: rgba(255, 0, 0, 1.0);\">\n",
    "</div>\n",
    "\"\"\"\n",
    "\n",
    "display(HTML(html_))"
   ]
  },
  {
   "cell_type": "code",
   "execution_count": 4,
   "metadata": {},
   "outputs": [],
   "source": [
    "from IPython.display import display\n",
    "def f(a, b):\n",
    "    display(a + b)\n",
    "    return a+b"
   ]
  },
  {
   "cell_type": "code",
   "execution_count": 5,
   "metadata": {},
   "outputs": [],
   "source": [
    "w = interactive(f, a=10, b=20)"
   ]
  },
  {
   "cell_type": "code",
   "execution_count": 6,
   "metadata": {},
   "outputs": [
    {
     "data": {
      "application/vnd.jupyter.widget-view+json": {
       "model_id": "4b8ad88112164d83ae17baed61e29c2b",
       "version_major": 2,
       "version_minor": 0
      },
      "text/plain": [
       "interactive(children=(IntSlider(value=10, description='a', max=30, min=-10), IntSlider(value=20, description='…"
      ]
     },
     "metadata": {},
     "output_type": "display_data"
    }
   ],
   "source": [
    "display(w)"
   ]
  },
  {
   "cell_type": "code",
   "execution_count": 7,
   "metadata": {},
   "outputs": [],
   "source": [
    "def rgba_div(r=255,g=0,b=0,a=1.0):\n",
    "    \n",
    "    MAX = 255.0\n",
    "    (h,s,v) = colorsys.rgb_to_hsv(r/MAX,g/MAX,b/MAX)\n",
    "    \n",
    "    html_ = \"\"\"\n",
    "HSV: {}, {}, {} <br/>\n",
    "<div style=\"height: 100px; width:300px; background-color: rgba({}, {}, {}, {});\">\n",
    "</div>\n",
    "\"\"\".format(\"%.3f\" % h,\"%.3f\" % s , \"%.3f\" % v, r,g,b,a)\n",
    "    display(HTML(html_))\n",
    "    return html_"
   ]
  },
  {
   "cell_type": "code",
   "execution_count": 8,
   "metadata": {},
   "outputs": [],
   "source": [
    "w1 = interactive(rgba_div,r=(0,255), g=(0,255), b=(0,255), a=(0.0,1.0))"
   ]
  },
  {
   "cell_type": "code",
   "execution_count": 9,
   "metadata": {},
   "outputs": [
    {
     "data": {
      "application/vnd.jupyter.widget-view+json": {
       "model_id": "28553be41f8f4807806429759621fd73",
       "version_major": 2,
       "version_minor": 0
      },
      "text/plain": [
       "interactive(children=(IntSlider(value=255, description='r', max=255), IntSlider(value=0, description='g', max=…"
      ]
     },
     "metadata": {},
     "output_type": "display_data"
    }
   ],
   "source": [
    "display(w1)"
   ]
  },
  {
   "cell_type": "code",
   "execution_count": 10,
   "metadata": {},
   "outputs": [
    {
     "data": {
      "application/vnd.jupyter.widget-view+json": {
       "model_id": "befdf4cca4e44280b93bf98c1dcce2d4",
       "version_major": 2,
       "version_minor": 0
      },
      "text/plain": [
       "interactive(children=(FloatSlider(value=0.0, description='x', max=10.0, step=0.05), FloatSlider(value=5.0, des…"
      ]
     },
     "metadata": {},
     "output_type": "display_data"
    }
   ],
   "source": [
    "from ipywidgets import FloatSlider\n",
    "\n",
    "x_widget = FloatSlider(min=0.0, max=10.0, step=0.05)\n",
    "y_widget = FloatSlider(min=0.5, max=10.0, step=0.05, value=5.0)\n",
    "\n",
    "def update_x_range(*args):\n",
    "    x_widget.max = 2.0 * y_widget.value\n",
    "y_widget.observe(update_x_range, 'value')\n",
    "\n",
    "def printer(x, y):\n",
    "    print(x, y)\n",
    "interact(printer,x=x_widget, y=y_widget);"
   ]
  },
  {
   "cell_type": "markdown",
   "metadata": {},
   "source": [
    "# RGB/HSV visualizer"
   ]
  },
  {
   "cell_type": "code",
   "execution_count": 11,
   "metadata": {},
   "outputs": [
    {
     "data": {
      "application/vnd.jupyter.widget-view+json": {
       "model_id": "e49826027c3a433f8d5abec38cc201df",
       "version_major": 2,
       "version_minor": 0
      },
      "text/plain": [
       "interactive(children=(FloatSlider(value=1.0, description='r', max=1.0), FloatSlider(value=0.0, description='g'…"
      ]
     },
     "metadata": {},
     "output_type": "display_data"
    }
   ],
   "source": [
    "from ipywidgets import FloatSlider\n",
    "import numpy as np\n",
    "\n",
    "r_widget = FloatSlider(min=0.0, max=1.0, value=1.0)\n",
    "g_widget = FloatSlider(min=0.0, max=1.0)\n",
    "b_widget = FloatSlider(min=0.0, max=1.0)\n",
    "\n",
    "h_widget = FloatSlider(min=0.0, max=1.0)\n",
    "s_widget = FloatSlider(min=0.0, max=1.0)\n",
    "v_widget = FloatSlider(min=0.0, max=1.0)\n",
    "\n",
    "\n",
    "def update_rsv(*args):\n",
    "    \n",
    "    (r,g,b) = colorsys.hsv_to_rgb(h_widget.value, s_widget.value, v_widget.value)\n",
    "    \n",
    "    # if not (np.allclose([r_widget.value, g_widget.value, b_widget.value], [r,g,b])):\n",
    "    \n",
    "    observe_rgb(observe=False)\n",
    "    \n",
    "    r_widget.value = r\n",
    "    g_widget.value = g\n",
    "    b_widget.value = b\n",
    "    \n",
    "    observe_rgb(observe=True)\n",
    "\n",
    "def update_hsv(*args):\n",
    "    (h,s,v) = colorsys.rgb_to_hsv(r_widget.value, g_widget.value, b_widget.value)\n",
    "    \n",
    "    # if not (np.allclose([h_widget.value, s_widget.value, v_widget.value], [h,s,v])):\n",
    "    \n",
    "    observe_hsv(observe=False)\n",
    "\n",
    "    h_widget.value = h\n",
    "    s_widget.value = s\n",
    "    v_widget.value = v\n",
    "\n",
    "    observe_hsv(observe=True)\n",
    "\n",
    "def observe_hsv(observe=True):\n",
    "    if observe:\n",
    "        h_widget.observe(update_rsv, 'value')\n",
    "        s_widget.observe(update_rsv, 'value')\n",
    "        v_widget.observe(update_rsv, 'value')\n",
    "    else:\n",
    "        h_widget.unobserve(update_rsv, 'value')\n",
    "        s_widget.unobserve(update_rsv, 'value')\n",
    "        v_widget.unobserve(update_rsv, 'value')\n",
    "\n",
    "def observe_rgb(observe=True):\n",
    "    if observe:\n",
    "        r_widget.observe(update_hsv, 'value')\n",
    "        g_widget.observe(update_hsv, 'value')\n",
    "        b_widget.observe(update_hsv, 'value')\n",
    "    else:\n",
    "        r_widget.unobserve(update_hsv, 'value')\n",
    "        g_widget.unobserve(update_hsv, 'value')\n",
    "        b_widget.unobserve(update_hsv, 'value')\n",
    "\n",
    "\n",
    "def printer(r,g,b,h,s,v):\n",
    "\n",
    "    r1 = 255*r\n",
    "    g1 = 255*g\n",
    "    b1 = 255*b\n",
    "    \n",
    "    html_ = \"\"\"\n",
    "RGB/HSV: {r},{g},{b} | {h} {s} {v} <br/>\n",
    "<div style=\"height: 100px; width:300px; background-color: rgba({r1}, {g1}, {b1}, 1.0);\">\n",
    "</div>\n",
    "\"\"\".format(r=r,g=g,b=b,r1=r1,b1=b1,g1=g1,h=h,s=s,v=v)\n",
    "    display(HTML(html_))\n",
    "\n",
    "observe_hsv()\n",
    "observe_rgb()\n",
    "\n",
    "interact(printer,r=r_widget, g=g_widget, b=b_widget, h=h_widget, s=s_widget, v=v_widget);"
   ]
  },
  {
   "cell_type": "code",
   "execution_count": null,
   "metadata": {},
   "outputs": [],
   "source": []
  }
 ],
 "metadata": {
  "kernelspec": {
   "display_name": "Python 3",
   "language": "python",
   "name": "python3"
  },
  "language_info": {
   "codemirror_mode": {
    "name": "ipython",
    "version": 3
   },
   "file_extension": ".py",
   "mimetype": "text/x-python",
   "name": "python",
   "nbconvert_exporter": "python",
   "pygments_lexer": "ipython3",
   "version": "3.7.1"
  },
  "toc": {
   "base_numbering": 1,
   "nav_menu": {},
   "number_sections": false,
   "sideBar": false,
   "skip_h1_title": false,
   "title_cell": "Table of Contents",
   "title_sidebar": "Contents",
   "toc_cell": false,
   "toc_position": {},
   "toc_section_display": false,
   "toc_window_display": false
  }
 },
 "nbformat": 4,
 "nbformat_minor": 2
}
