{
 "cells": [
  {
   "attachments": {},
   "cell_type": "markdown",
   "metadata": {},
   "source": [
    "Desired functions:\n",
    "\n",
    "* focus on a window if possible (hackish -- come back to [Applescript - Google Chrome activate a certain window - Stack Overflow](https://stackoverflow.com/questions/10366003/applescript-google-chrome-activate-a-certain-window/34375804#34375804))\n",
    "* focus on tab\n",
    "* get list of all tabs (in markdown or other format)\n",
    "* close a tab\n",
    "* keep an updated list of tabs"
   ]
  },
  {
   "cell_type": "code",
   "execution_count": null,
   "metadata": {},
   "outputs": [],
   "source": [
    "import applescript\n",
    "from appscript import app, k, its\n",
    "\n",
    "import numpy as np\n",
    "import pandas as pd\n",
    "from pandas import DataFrame, Series\n",
    "\n",
    "from IPython.display import display, Markdown, Latex, Math\n",
    "\n",
    "from rdhyee_utils.google_chrome import GoogleChromeTab, GoogleChrome\n",
    "\n",
    "#import beakerx\n",
    "#from beakerx import *\n"
   ]
  },
  {
   "cell_type": "code",
   "execution_count": null,
   "metadata": {},
   "outputs": [],
   "source": [
    "import ipywidgets as widgets\n",
    "from ipywidgets import Button, Layout\n",
    "\n",
    "from urllib.parse import urlparse\n",
    "\n",
    "widgets.Button, widgets.SelectMultiple"
   ]
  },
  {
   "cell_type": "code",
   "execution_count": null,
   "metadata": {},
   "outputs": [],
   "source": [
    "# Chrome version\n",
    "\n",
    "gc = app('Google Chrome')\n",
    "gc.version()"
   ]
  },
  {
   "cell_type": "code",
   "execution_count": null,
   "metadata": {},
   "outputs": [],
   "source": [
    "s = \"How do I know if spreadsheet cells are merged using google apps script - Stack Overflow 2597\"\n",
    "s[:100]"
   ]
  },
  {
   "cell_type": "code",
   "execution_count": null,
   "metadata": {
    "scrolled": true
   },
   "outputs": [],
   "source": [
    "gco = GoogleChrome()\n",
    "\n",
    "for tab in gco.tabs:\n",
    "    print (tab.title, tab.id, tab.index_in_window)"
   ]
  },
  {
   "cell_type": "code",
   "execution_count": null,
   "metadata": {},
   "outputs": [],
   "source": [
    "class ChromeController():\n",
    "    def __init__(self):\n",
    "        self.gc = GoogleChrome()\n",
    "        self.load_tabs()\n",
    "        self._create_widgets()\n",
    "\n",
    "    def load_tabs(self):\n",
    "        self.df = DataFrame([\n",
    "    {\n",
    "        'title': tab.title,\n",
    "        'id': int(tab.id),\n",
    "        'window_id': int(tab.window_id),\n",
    "        'url': tab.url,\n",
    "        'tab': tab\n",
    "    }           \n",
    "    for tab in self.gc.tabs])\n",
    "        \n",
    "    def _create_widgets(self):\n",
    "        self.tabs_list =  widgets.SelectMultiple(\n",
    "            description='tab_selector',\n",
    "            layout=Layout(width='50%', height='300px'),\n",
    "        )\n",
    "\n",
    "        self.tabs_list.options = self.tabs_options()\n",
    "\n",
    "        self.close_button = widgets.Button(\n",
    "            description = \"Close\"\n",
    "        )\n",
    "\n",
    "        self.focus_button = widgets.Button(\n",
    "            description = \"Focus\"\n",
    "        )\n",
    "\n",
    "        self.output = widgets.Output(\n",
    "            layout={'border': '1px solid black', 'width':'50%', 'height':'100px'},\n",
    "        )\n",
    "        \n",
    "        self.ui = widgets.VBox([\n",
    "              widgets.HBox([self.tabs_list,\n",
    "                                widgets.VBox([self.focus_button, self.close_button])\n",
    "                    ]),\n",
    "              self.output\n",
    "              \n",
    "        ])\n",
    "\n",
    "        # tie event handlers\n",
    "        self.tabs_list.observe(self.tabs_list_change, names='value')            \n",
    "        self.close_button.on_click(self.close_click)\n",
    "        self.focus_button.on_click(self.focus_click)\n",
    "\n",
    "\n",
    "    def tabs_options(self):\n",
    "        return self.df.apply(lambda row:(row['title'], (row['id'], row['window_id'])), axis=1).to_list()\n",
    "    \n",
    "    @property\n",
    "    def current_tabs(self):\n",
    "        tabs = []\n",
    "        for c in self.tabs_list.value:\n",
    "            tab_id = c[0]\n",
    "            # window_id = c[1]\n",
    "            # rawtab = gco.gc.windows.ID(window_id).tabs.ID(tab_id)\n",
    "            q = f'id == {tab_id}'\n",
    "            try:\n",
    "                rawtab = self.df.query(q).iloc[0]['tab']\n",
    "                tabs.append(rawtab)\n",
    "            except Exception as e:\n",
    "                pass\n",
    "        return tabs\n",
    "\n",
    "    def tabs_list_change(self, *args):\n",
    "        with self.output:\n",
    "            print (\"tabs_list_change\")\n",
    "            print(self.tabs_list.value, str(self.current_tabs))\n",
    "            self.output.clear_output(wait=True)\n",
    " \n",
    "    def close_click(self, *args):\n",
    "        with self.output:\n",
    "            print (\"close button clicked\")\n",
    "            self.output.clear_output(wait=True)\n",
    "\n",
    "    def focus_click(self, *args):\n",
    "        with self.output:\n",
    "            print (\"focus button clicked\")\n",
    "            self.output.clear_output(wait=True)\n",
    "            # focus on the first selected tab\n",
    "            tabs = self.current_tabs\n",
    "            if tabs:\n",
    "                tabs[0].focus()\n",
    "            \n",
    "    def render(self):\n",
    "        display(self.ui)\n",
    "\n"
   ]
  },
  {
   "cell_type": "code",
   "execution_count": null,
   "metadata": {},
   "outputs": [],
   "source": [
    "cc = ChromeController()\n",
    "cc.render()"
   ]
  },
  {
   "cell_type": "code",
   "execution_count": null,
   "metadata": {},
   "outputs": [],
   "source": [
    "df = DataFrame([\n",
    "    {\n",
    "        'title': tab.title,\n",
    "        'id': int(tab.id),\n",
    "        'window_id': int(tab.window_id),\n",
    "        'url': tab.url,\n",
    "        'tab': tab\n",
    "    }           \n",
    "    for tab in gco.tabs])\n",
    "\n",
    "# table = TableDisplay(df)\n",
    "\n",
    "options = df.apply(lambda row:(row['title'], (row['id'], row['window_id'])), axis=1).to_list()"
   ]
  },
  {
   "cell_type": "code",
   "execution_count": null,
   "metadata": {},
   "outputs": [],
   "source": [
    "tab_selector = widgets.SelectMultiple(\n",
    "    description='tab_selector',\n",
    "    layout=Layout(width='50%', height='300px'),\n",
    "    options = options,\n",
    ")\n",
    "\n",
    "output2 = widgets.Output()\n",
    "display(tab_selector, output2)\n",
    "\n",
    "def on_value_change(change):\n",
    "    with output2:\n",
    "        for c in change['new']:\n",
    "            # print (c)\n",
    "        \n",
    "            tab_id = c[0]\n",
    "            window_id = c[1]\n",
    "            # rawtab = gco.gc.windows.ID(window_id).tabs.ID(tab_id)\n",
    "            q = f'id == {tab_id}'\n",
    "            try:\n",
    "                rawtab = df.query(q).iloc[0]['tab']\n",
    "            except Exception as e:\n",
    "                print (e)\n",
    "            else:\n",
    "                print (tab_id, rawtab)\n",
    "            # print(change['new'])\n",
    "\n",
    "tab_selector.observe(on_value_change, names='value')"
   ]
  },
  {
   "cell_type": "code",
   "execution_count": null,
   "metadata": {},
   "outputs": [],
   "source": [
    "df.head()"
   ]
  },
  {
   "cell_type": "code",
   "execution_count": null,
   "metadata": {},
   "outputs": [],
   "source": [
    "df.dtypes"
   ]
  },
  {
   "cell_type": "code",
   "execution_count": null,
   "metadata": {},
   "outputs": [],
   "source": [
    "df.query(q).iloc[0]['tab']"
   ]
  },
  {
   "cell_type": "code",
   "execution_count": null,
   "metadata": {},
   "outputs": [],
   "source": [
    "tab_id = 1865166370\n",
    "q = f'id == {tab_id}'\n",
    "rawtab = df.query(q)['tab'][0]\n",
    "rawtab"
   ]
  },
  {
   "cell_type": "code",
   "execution_count": null,
   "metadata": {},
   "outputs": [],
   "source": [
    "if False:\n",
    "\n",
    "    import time\n",
    "\n",
    "    for tab in gco.tabs():\n",
    "        tab.focus()\n",
    "        time.sleep(0.5)"
   ]
  },
  {
   "cell_type": "code",
   "execution_count": null,
   "metadata": {},
   "outputs": [],
   "source": [
    "for w in gco.windows:\n",
    "    print (w.id, w.name, w.index)\n"
   ]
  },
  {
   "cell_type": "code",
   "execution_count": null,
   "metadata": {},
   "outputs": [],
   "source": [
    "import pyperclip\n",
    "\n",
    "tabs_md = []\n",
    "links = []\n",
    "\n",
    "for w in gco.windows:\n",
    "    # print (w.index(), w.active_tab_index())\n",
    "    for (i, tab) in enumerate(w.tabs):\n",
    "        link_md = '[{}]({})'.format(tab.title, tab.url)\n",
    "        \n",
    "        tab_md = {\n",
    "            'window_id': w.id,\n",
    "            'tab_id': tab.id,\n",
    "            'tab_title':tab.title,\n",
    "            'tab_url': tab.url\n",
    "        }\n",
    "        \n",
    "        links.append(link_md)\n",
    "        tabs_md.append(tab_md)\n",
    "\n",
    "links_md = \"* \" + \"\\n* \".join(links)        \n",
    "display(Markdown(links_md))\n",
    "pyperclip.copy(links_md)"
   ]
  },
  {
   "cell_type": "code",
   "execution_count": null,
   "metadata": {},
   "outputs": [],
   "source": [
    "# gc.windows()[0].active_tab_index.set(9)\n",
    "# gc.windows()[0].tabs()[6].close()"
   ]
  },
  {
   "cell_type": "code",
   "execution_count": null,
   "metadata": {},
   "outputs": [],
   "source": [
    "# make a DataFrame out the tab data\n",
    "\n"
   ]
  }
 ],
 "metadata": {
  "kernelspec": {
   "display_name": "Python 3 (ipykernel)",
   "language": "python",
   "name": "python3"
  },
  "language_info": {
   "codemirror_mode": {
    "name": "ipython",
    "version": 3
   },
   "file_extension": ".py",
   "mimetype": "text/x-python",
   "name": "python",
   "nbconvert_exporter": "python",
   "pygments_lexer": "ipython3",
   "version": "3.11.3"
  },
  "toc": {
   "base_numbering": 1,
   "nav_menu": {},
   "number_sections": false,
   "sideBar": false,
   "skip_h1_title": false,
   "title_cell": "Table of Contents",
   "title_sidebar": "Contents",
   "toc_cell": false,
   "toc_position": {},
   "toc_section_display": false,
   "toc_window_display": false
  }
 },
 "nbformat": 4,
 "nbformat_minor": 4
}
